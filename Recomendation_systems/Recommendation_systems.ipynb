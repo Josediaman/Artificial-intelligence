{
  "nbformat": 4,
  "nbformat_minor": 0,
  "metadata": {
    "colab": {
      "name": "Recommendation_systems.ipynb",
      "provenance": [],
      "collapsed_sections": [
        "CEMZvsGij2VD",
        "2xbwRmH3cwlx",
        "NzWCQbYmeSMQ",
        "LNJ__8tsctax",
        "q0N0w5_zcocd",
        "PYyP-FW_evd3",
        "No_97RvfvDj3"
      ],
      "toc_visible": true
    },
    "kernelspec": {
      "display_name": "Python 3",
      "name": "python3"
    }
  },
  "cells": [
    {
      "cell_type": "markdown",
      "metadata": {
        "id": "Q90c91RMVR0s"
      },
      "source": [
        "# Reccomendation system"
      ]
    },
    {
      "cell_type": "code",
      "metadata": {
        "colab": {
          "base_uri": "https://localhost:8080/"
        },
        "id": "AsSN4XgSaouX",
        "outputId": "b53faad2-2780-4aa4-cabd-a4b3da51755d"
      },
      "source": [
        "pip install scikit-surprise"
      ],
      "execution_count": null,
      "outputs": [
        {
          "output_type": "stream",
          "text": [
            "Collecting scikit-surprise\n",
            "\u001b[?25l  Downloading https://files.pythonhosted.org/packages/97/37/5d334adaf5ddd65da99fc65f6507e0e4599d092ba048f4302fe8775619e8/scikit-surprise-1.1.1.tar.gz (11.8MB)\n",
            "\u001b[K     |████████████████████████████████| 11.8MB 9.7MB/s \n",
            "\u001b[?25hRequirement already satisfied: joblib>=0.11 in /usr/local/lib/python3.7/dist-packages (from scikit-surprise) (1.0.1)\n",
            "Requirement already satisfied: numpy>=1.11.2 in /usr/local/lib/python3.7/dist-packages (from scikit-surprise) (1.19.5)\n",
            "Requirement already satisfied: scipy>=1.0.0 in /usr/local/lib/python3.7/dist-packages (from scikit-surprise) (1.4.1)\n",
            "Requirement already satisfied: six>=1.10.0 in /usr/local/lib/python3.7/dist-packages (from scikit-surprise) (1.15.0)\n",
            "Building wheels for collected packages: scikit-surprise\n",
            "  Building wheel for scikit-surprise (setup.py) ... \u001b[?25l\u001b[?25hdone\n",
            "  Created wheel for scikit-surprise: filename=scikit_surprise-1.1.1-cp37-cp37m-linux_x86_64.whl size=1617588 sha256=6065251c3755ff4c8a5eaf590cab4ac0fecdc26592c261867b79cc37ec364686\n",
            "  Stored in directory: /root/.cache/pip/wheels/78/9c/3d/41b419c9d2aff5b6e2b4c0fc8d25c538202834058f9ed110d0\n",
            "Successfully built scikit-surprise\n",
            "Installing collected packages: scikit-surprise\n",
            "Successfully installed scikit-surprise-1.1.1\n"
          ],
          "name": "stdout"
        }
      ]
    },
    {
      "cell_type": "markdown",
      "metadata": {
        "id": "CEMZvsGij2VD"
      },
      "source": [
        "## Packages"
      ]
    },
    {
      "cell_type": "code",
      "metadata": {
        "id": "UJxfH0Dqj1i2"
      },
      "source": [
        "import pandas as pd\n",
        "from surprise import Dataset\n",
        "from surprise import Reader\n",
        "from surprise import NMF, SVD, KNNWithMeans\n",
        "from surprise.model_selection import cross_validate\n",
        "from surprise import Reader, Dataset\n",
        "from surprise import KNNWithMeans\n",
        "from surprise import Dataset\n",
        "from surprise.model_selection import GridSearchCV\n",
        "from surprise import KNNWithMeans\n",
        "from surprise import SVD\n",
        "from surprise import Dataset\n",
        "from surprise.model_selection import GridSearchCV\n",
        "from surprise import KNNWithMeans\n",
        "from surprise.model_selection import train_test_split\n",
        "from surprise import accuracy"
      ],
      "execution_count": null,
      "outputs": []
    },
    {
      "cell_type": "markdown",
      "metadata": {
        "id": "2xbwRmH3cwlx"
      },
      "source": [
        "## Data"
      ]
    },
    {
      "cell_type": "code",
      "metadata": {
        "id": "Y3NmbzE6VPd6",
        "colab": {
          "base_uri": "https://localhost:8080/",
          "height": 424
        },
        "outputId": "7fe77281-d70b-463b-c8d6-c87fef640b0b"
      },
      "source": [
        "# This is the same data that was plotted for similarity earlier\n",
        "# with one new user \"E\" who has rated only movie 1\n",
        "ratings_dict = {\n",
        "    \"user_id\": ['A', 'A', 'B', 'B', 'C', 'C', 'D', 'D', 'E'],\n",
        "    \"item_id\": [1, 2, 1, 2, 1, 2, 1, 2, 1],\n",
        "    \"rating\": [1, 2, 2, 4, 2.5, 4, 4.5, 5, 3],\n",
        "}\n",
        "df = pd.DataFrame(ratings_dict)\n",
        "reader = Reader(rating_scale=(1, 5))\n",
        "\n",
        "\n",
        "\n",
        "# Loads Pandas dataframe\n",
        "#data = Dataset.load_from_df(df[['user_id','item_id','rating']], reader)\n",
        "\n",
        "# Loads the builtin Movielens-100k data\n",
        "data = Dataset.load_builtin('ml-100k')\n",
        "trainset, testset = train_test_split(data, test_size=.25)\n",
        "\n",
        "\n",
        "dataframe1=pd.DataFrame(data.__dict__['raw_ratings'], columns=['user_id','item_id','rating','timestamp'])\n",
        "dataframe1[['user_id','item_id','rating']]"
      ],
      "execution_count": null,
      "outputs": [
        {
          "output_type": "execute_result",
          "data": {
            "text/html": [
              "<div>\n",
              "<style scoped>\n",
              "    .dataframe tbody tr th:only-of-type {\n",
              "        vertical-align: middle;\n",
              "    }\n",
              "\n",
              "    .dataframe tbody tr th {\n",
              "        vertical-align: top;\n",
              "    }\n",
              "\n",
              "    .dataframe thead th {\n",
              "        text-align: right;\n",
              "    }\n",
              "</style>\n",
              "<table border=\"1\" class=\"dataframe\">\n",
              "  <thead>\n",
              "    <tr style=\"text-align: right;\">\n",
              "      <th></th>\n",
              "      <th>user_id</th>\n",
              "      <th>item_id</th>\n",
              "      <th>rating</th>\n",
              "    </tr>\n",
              "  </thead>\n",
              "  <tbody>\n",
              "    <tr>\n",
              "      <th>0</th>\n",
              "      <td>196</td>\n",
              "      <td>242</td>\n",
              "      <td>3.0</td>\n",
              "    </tr>\n",
              "    <tr>\n",
              "      <th>1</th>\n",
              "      <td>186</td>\n",
              "      <td>302</td>\n",
              "      <td>3.0</td>\n",
              "    </tr>\n",
              "    <tr>\n",
              "      <th>2</th>\n",
              "      <td>22</td>\n",
              "      <td>377</td>\n",
              "      <td>1.0</td>\n",
              "    </tr>\n",
              "    <tr>\n",
              "      <th>3</th>\n",
              "      <td>244</td>\n",
              "      <td>51</td>\n",
              "      <td>2.0</td>\n",
              "    </tr>\n",
              "    <tr>\n",
              "      <th>4</th>\n",
              "      <td>166</td>\n",
              "      <td>346</td>\n",
              "      <td>1.0</td>\n",
              "    </tr>\n",
              "    <tr>\n",
              "      <th>...</th>\n",
              "      <td>...</td>\n",
              "      <td>...</td>\n",
              "      <td>...</td>\n",
              "    </tr>\n",
              "    <tr>\n",
              "      <th>99995</th>\n",
              "      <td>880</td>\n",
              "      <td>476</td>\n",
              "      <td>3.0</td>\n",
              "    </tr>\n",
              "    <tr>\n",
              "      <th>99996</th>\n",
              "      <td>716</td>\n",
              "      <td>204</td>\n",
              "      <td>5.0</td>\n",
              "    </tr>\n",
              "    <tr>\n",
              "      <th>99997</th>\n",
              "      <td>276</td>\n",
              "      <td>1090</td>\n",
              "      <td>1.0</td>\n",
              "    </tr>\n",
              "    <tr>\n",
              "      <th>99998</th>\n",
              "      <td>13</td>\n",
              "      <td>225</td>\n",
              "      <td>2.0</td>\n",
              "    </tr>\n",
              "    <tr>\n",
              "      <th>99999</th>\n",
              "      <td>12</td>\n",
              "      <td>203</td>\n",
              "      <td>3.0</td>\n",
              "    </tr>\n",
              "  </tbody>\n",
              "</table>\n",
              "<p>100000 rows × 3 columns</p>\n",
              "</div>"
            ],
            "text/plain": [
              "      user_id item_id  rating\n",
              "0         196     242     3.0\n",
              "1         186     302     3.0\n",
              "2          22     377     1.0\n",
              "3         244      51     2.0\n",
              "4         166     346     1.0\n",
              "...       ...     ...     ...\n",
              "99995     880     476     3.0\n",
              "99996     716     204     5.0\n",
              "99997     276    1090     1.0\n",
              "99998      13     225     2.0\n",
              "99999      12     203     3.0\n",
              "\n",
              "[100000 rows x 3 columns]"
            ]
          },
          "metadata": {
            "tags": []
          },
          "execution_count": 88
        }
      ]
    },
    {
      "cell_type": "markdown",
      "metadata": {
        "id": "NzWCQbYmeSMQ"
      },
      "source": [
        "## Model selection\n"
      ]
    },
    {
      "cell_type": "code",
      "metadata": {
        "colab": {
          "base_uri": "https://localhost:8080/",
          "height": 317
        },
        "id": "vS7EbW_4eXGO",
        "outputId": "f83b6f3b-c1af-4d9f-84b4-0fc1d033a5f3"
      },
      "source": [
        "cv = []\n",
        "# Iterate over all recommender system algorithms\n",
        "for recsys in [NMF(), SVD(), KNNWithMeans()]:\n",
        "    # Perform cross validation\n",
        "    tmp = cross_validate(recsys, data, measures=['RMSE'], cv=5, verbose=False)\n",
        "    cv.append((str(recsys).split(' ')[0].split('.')[-1], tmp['test_rmse'].mean()))\n",
        "pd.DataFrame(cv, columns=['RecSys', 'RMSE'])"
      ],
      "execution_count": null,
      "outputs": [
        {
          "output_type": "stream",
          "text": [
            "Computing the msd similarity matrix...\n",
            "Done computing similarity matrix.\n",
            "Computing the msd similarity matrix...\n",
            "Done computing similarity matrix.\n",
            "Computing the msd similarity matrix...\n",
            "Done computing similarity matrix.\n",
            "Computing the msd similarity matrix...\n",
            "Done computing similarity matrix.\n",
            "Computing the msd similarity matrix...\n",
            "Done computing similarity matrix.\n"
          ],
          "name": "stdout"
        },
        {
          "output_type": "execute_result",
          "data": {
            "text/html": [
              "<div>\n",
              "<style scoped>\n",
              "    .dataframe tbody tr th:only-of-type {\n",
              "        vertical-align: middle;\n",
              "    }\n",
              "\n",
              "    .dataframe tbody tr th {\n",
              "        vertical-align: top;\n",
              "    }\n",
              "\n",
              "    .dataframe thead th {\n",
              "        text-align: right;\n",
              "    }\n",
              "</style>\n",
              "<table border=\"1\" class=\"dataframe\">\n",
              "  <thead>\n",
              "    <tr style=\"text-align: right;\">\n",
              "      <th></th>\n",
              "      <th>RecSys</th>\n",
              "      <th>RMSE</th>\n",
              "    </tr>\n",
              "  </thead>\n",
              "  <tbody>\n",
              "    <tr>\n",
              "      <th>0</th>\n",
              "      <td>NMF</td>\n",
              "      <td>0.964554</td>\n",
              "    </tr>\n",
              "    <tr>\n",
              "      <th>1</th>\n",
              "      <td>SVD</td>\n",
              "      <td>0.936290</td>\n",
              "    </tr>\n",
              "    <tr>\n",
              "      <th>2</th>\n",
              "      <td>KNNWithMeans</td>\n",
              "      <td>0.951956</td>\n",
              "    </tr>\n",
              "  </tbody>\n",
              "</table>\n",
              "</div>"
            ],
            "text/plain": [
              "         RecSys      RMSE\n",
              "0           NMF  0.964554\n",
              "1           SVD  0.936290\n",
              "2  KNNWithMeans  0.951956"
            ]
          },
          "metadata": {
            "tags": []
          },
          "execution_count": 89
        }
      ]
    },
    {
      "cell_type": "markdown",
      "metadata": {
        "id": "LNJ__8tsctax"
      },
      "source": [
        "## KNN Means"
      ]
    },
    {
      "cell_type": "code",
      "metadata": {
        "colab": {
          "base_uri": "https://localhost:8080/"
        },
        "id": "nHs4pB8HbDGV",
        "outputId": "5b10eda1-73b4-444d-a677-ae96fe53e268"
      },
      "source": [
        "sim_options = {\n",
        "    \"name\": [\"msd\", \"cosine\"],\n",
        "    \"min_support\": [3, 4, 5],\n",
        "    \"user_based\": [False, True],\n",
        "}\n",
        "\n",
        "param_grid = {\"sim_options\": sim_options}\n",
        "gs1 = GridSearchCV(KNNWithMeans, param_grid, measures=[\"rmse\", \"mae\"], cv=3)\n",
        "gs1.fit(data)\n",
        "\n",
        "\n",
        "print(gs1.best_score[\"rmse\"])\n",
        "print(gs1.best_params[\"rmse\"])"
      ],
      "execution_count": null,
      "outputs": [
        {
          "output_type": "stream",
          "text": [
            "Computing the msd similarity matrix...\n",
            "Done computing similarity matrix.\n",
            "Computing the msd similarity matrix...\n",
            "Done computing similarity matrix.\n",
            "Computing the msd similarity matrix...\n",
            "Done computing similarity matrix.\n",
            "Computing the msd similarity matrix...\n",
            "Done computing similarity matrix.\n",
            "Computing the msd similarity matrix...\n",
            "Done computing similarity matrix.\n",
            "Computing the msd similarity matrix...\n",
            "Done computing similarity matrix.\n",
            "Computing the msd similarity matrix...\n",
            "Done computing similarity matrix.\n",
            "Computing the msd similarity matrix...\n",
            "Done computing similarity matrix.\n",
            "Computing the msd similarity matrix...\n",
            "Done computing similarity matrix.\n",
            "Computing the msd similarity matrix...\n",
            "Done computing similarity matrix.\n",
            "Computing the msd similarity matrix...\n",
            "Done computing similarity matrix.\n",
            "Computing the msd similarity matrix...\n",
            "Done computing similarity matrix.\n",
            "Computing the msd similarity matrix...\n",
            "Done computing similarity matrix.\n",
            "Computing the msd similarity matrix...\n",
            "Done computing similarity matrix.\n",
            "Computing the msd similarity matrix...\n",
            "Done computing similarity matrix.\n",
            "Computing the msd similarity matrix...\n",
            "Done computing similarity matrix.\n",
            "Computing the msd similarity matrix...\n",
            "Done computing similarity matrix.\n",
            "Computing the msd similarity matrix...\n",
            "Done computing similarity matrix.\n",
            "Computing the cosine similarity matrix...\n",
            "Done computing similarity matrix.\n",
            "Computing the cosine similarity matrix...\n",
            "Done computing similarity matrix.\n",
            "Computing the cosine similarity matrix...\n",
            "Done computing similarity matrix.\n",
            "Computing the cosine similarity matrix...\n",
            "Done computing similarity matrix.\n",
            "Computing the cosine similarity matrix...\n",
            "Done computing similarity matrix.\n",
            "Computing the cosine similarity matrix...\n",
            "Done computing similarity matrix.\n",
            "Computing the cosine similarity matrix...\n",
            "Done computing similarity matrix.\n",
            "Computing the cosine similarity matrix...\n",
            "Done computing similarity matrix.\n",
            "Computing the cosine similarity matrix...\n",
            "Done computing similarity matrix.\n",
            "Computing the cosine similarity matrix...\n",
            "Done computing similarity matrix.\n",
            "Computing the cosine similarity matrix...\n",
            "Done computing similarity matrix.\n",
            "Computing the cosine similarity matrix...\n",
            "Done computing similarity matrix.\n",
            "Computing the cosine similarity matrix...\n",
            "Done computing similarity matrix.\n",
            "Computing the cosine similarity matrix...\n",
            "Done computing similarity matrix.\n",
            "Computing the cosine similarity matrix...\n",
            "Done computing similarity matrix.\n",
            "Computing the cosine similarity matrix...\n",
            "Done computing similarity matrix.\n",
            "Computing the cosine similarity matrix...\n",
            "Done computing similarity matrix.\n",
            "Computing the cosine similarity matrix...\n",
            "Done computing similarity matrix.\n",
            "1.091634726890162\n",
            "{'sim_options': {'name': 'msd', 'min_support': 3, 'user_based': True}}\n"
          ],
          "name": "stdout"
        }
      ]
    },
    {
      "cell_type": "code",
      "metadata": {
        "colab": {
          "base_uri": "https://localhost:8080/"
        },
        "id": "3dpHDk4xbyIH",
        "outputId": "be9d9c08-d6ed-4a72-98ac-c7ec70c0595e"
      },
      "source": [
        "# To use item-based cosine similarity\n",
        "sim_options = {\n",
        "    \"name\": \"msd\",\n",
        "    \"min_support\": 3,\n",
        "    \"user_based\": True,  # Compute  similarities between items\n",
        "}\n",
        "\n",
        "algo1 = KNNWithMeans(sim_options=sim_options)\n",
        "trainingSet = trainset\n",
        "algo1.fit(trainingSet)"
      ],
      "execution_count": null,
      "outputs": [
        {
          "output_type": "stream",
          "text": [
            "Computing the msd similarity matrix...\n",
            "Done computing similarity matrix.\n"
          ],
          "name": "stdout"
        },
        {
          "output_type": "execute_result",
          "data": {
            "text/plain": [
              "<surprise.prediction_algorithms.knns.KNNWithMeans at 0x7fb119374710>"
            ]
          },
          "metadata": {
            "tags": []
          },
          "execution_count": 90
        }
      ]
    },
    {
      "cell_type": "code",
      "metadata": {
        "colab": {
          "base_uri": "https://localhost:8080/"
        },
        "id": "CAhuML_t6N59",
        "outputId": "6d8bb96b-f5ee-4798-f02b-aeddf34a56a0"
      },
      "source": [
        "predictions1 = algo1.test(testset)\n",
        "accuracy.rmse(predictions1)"
      ],
      "execution_count": null,
      "outputs": [
        {
          "output_type": "stream",
          "text": [
            "RMSE: 0.9613\n"
          ],
          "name": "stdout"
        },
        {
          "output_type": "execute_result",
          "data": {
            "text/plain": [
              "0.9612825502037637"
            ]
          },
          "metadata": {
            "tags": []
          },
          "execution_count": 92
        }
      ]
    },
    {
      "cell_type": "code",
      "metadata": {
        "colab": {
          "base_uri": "https://localhost:8080/"
        },
        "id": "a9C1wrFUcncN",
        "outputId": "9c7d5dc8-0130-4c6c-cb7e-e3813844f6fe"
      },
      "source": [
        "prediction11 = algo1.predict('716','204')\n",
        "prediction11.est"
      ],
      "execution_count": null,
      "outputs": [
        {
          "output_type": "execute_result",
          "data": {
            "text/plain": [
              "4.224530417701448"
            ]
          },
          "metadata": {
            "tags": []
          },
          "execution_count": 97
        }
      ]
    },
    {
      "cell_type": "code",
      "metadata": {
        "id": "7wvGG3XJDxqX",
        "colab": {
          "base_uri": "https://localhost:8080/"
        },
        "outputId": "64e9e4e3-8386-42cc-db20-adce4cd86b21"
      },
      "source": [
        "titles = pd.DataFrame(dataframe1['item_id'].unique(),columns=['item_id'])\n",
        "\n",
        "titles['Estimate_Score'] = titles['item_id'].apply(lambda x: algo1.predict('716', x).est)\n",
        "titles = titles.sort_values(by=['Estimate_Score'], ascending=False)\n",
        "a=titles.head(20)\n",
        "print(a)"
      ],
      "execution_count": null,
      "outputs": [
        {
          "output_type": "stream",
          "text": [
            "     item_id  Estimate_Score\n",
            "1560    1233        5.000000\n",
            "1239    1367        5.000000\n",
            "1579    1653        5.000000\n",
            "1571    1642        5.000000\n",
            "1566    1656        5.000000\n",
            "1135     119        5.000000\n",
            "1150     814        5.000000\n",
            "1436    1293        5.000000\n",
            "1426    1080        5.000000\n",
            "1272     247        5.000000\n",
            "1297    1536        5.000000\n",
            "1323    1398        5.000000\n",
            "1333    1554        5.000000\n",
            "1619    1467        5.000000\n",
            "1641    1631        4.996183\n",
            "1666    1636        4.996183\n",
            "1552    1651        4.996183\n",
            "1674    1645        4.996183\n",
            "1591    1650        4.996183\n",
            "1038    1189        4.960239\n"
          ],
          "name": "stdout"
        }
      ]
    },
    {
      "cell_type": "markdown",
      "metadata": {
        "id": "q0N0w5_zcocd"
      },
      "source": [
        "## SVD"
      ]
    },
    {
      "cell_type": "code",
      "metadata": {
        "colab": {
          "base_uri": "https://localhost:8080/"
        },
        "id": "soUedtchbHfZ",
        "outputId": "34a24181-8b8c-4bdd-af5d-f7707ea3dfab"
      },
      "source": [
        "param_grid = {\n",
        "    \"lr_bu\": [0.002, 0.005],\n",
        "    \"lr_bi\": [0.002, 0.005],\n",
        "    \"lr_pu\": [0.002, 0.005],\n",
        "    \"lr_qi\": [0.002, 0.005],\n",
        "}\n",
        "gs2 = GridSearchCV(SVD, param_grid, measures=[\"rmse\", \"mae\"], cv=3)\n",
        "gs2.fit(data)\n",
        "\n",
        "\n",
        "print(gs2.best_score[\"rmse\"])\n",
        "print(gs2.best_params[\"rmse\"])"
      ],
      "execution_count": null,
      "outputs": [
        {
          "output_type": "stream",
          "text": [
            "1.1834517962186384\n",
            "{'lr_bu': 0.005, 'lr_bi': 0.005, 'lr_pu': 0.005, 'lr_qi': 0.005}\n"
          ],
          "name": "stdout"
        }
      ]
    },
    {
      "cell_type": "code",
      "metadata": {
        "id": "rxGswEvFcYLr",
        "colab": {
          "base_uri": "https://localhost:8080/"
        },
        "outputId": "7922ffc9-5749-4551-d2dc-9e495205caf9"
      },
      "source": [
        "algo2 = SVD(n_epochs=400, lr_bu=0.005,lr_bi=0.005,lr_pu=0.005,lr_qi=0.005)\n",
        "trainingSet = trainset\n",
        "algo2.fit(trainingSet)"
      ],
      "execution_count": null,
      "outputs": [
        {
          "output_type": "execute_result",
          "data": {
            "text/plain": [
              "<surprise.prediction_algorithms.matrix_factorization.SVD at 0x7fb119402a50>"
            ]
          },
          "metadata": {
            "tags": []
          },
          "execution_count": 100
        }
      ]
    },
    {
      "cell_type": "code",
      "metadata": {
        "colab": {
          "base_uri": "https://localhost:8080/"
        },
        "id": "ObD3wNsX7afk",
        "outputId": "615a1dd7-6e38-46ec-8631-1a0dbe41b416"
      },
      "source": [
        "predictions2 = algo2.test(testset)\n",
        "accuracy.rmse(predictions2)"
      ],
      "execution_count": null,
      "outputs": [
        {
          "output_type": "stream",
          "text": [
            "RMSE: 0.9768\n"
          ],
          "name": "stdout"
        },
        {
          "output_type": "execute_result",
          "data": {
            "text/plain": [
              "0.976845885695805"
            ]
          },
          "metadata": {
            "tags": []
          },
          "execution_count": 102
        }
      ]
    },
    {
      "cell_type": "code",
      "metadata": {
        "colab": {
          "base_uri": "https://localhost:8080/"
        },
        "id": "4zGOxbiwdoDI",
        "outputId": "ebef7741-864a-4b57-815c-baac20616e5c"
      },
      "source": [
        "prediction2 = algo2.predict('716','204')\n",
        "prediction2.est"
      ],
      "execution_count": null,
      "outputs": [
        {
          "output_type": "execute_result",
          "data": {
            "text/plain": [
              "4.78233518527119"
            ]
          },
          "metadata": {
            "tags": []
          },
          "execution_count": 109
        }
      ]
    },
    {
      "cell_type": "code",
      "metadata": {
        "colab": {
          "base_uri": "https://localhost:8080/"
        },
        "id": "BZm8nw0U_YtF",
        "outputId": "09f02ae9-a53a-4c3d-cf91-9eacfe05abc5"
      },
      "source": [
        "titles = pd.DataFrame(dataframe1['item_id'].unique(),columns=['item_id'])\n",
        "\n",
        "titles['Estimate_Score'] = titles['item_id'].apply(lambda x: algo2.predict('716', x).est) \n",
        "titles = titles.sort_values(by=['Estimate_Score'], ascending=False)\n",
        "b=titles.head(20)\n",
        "print(b)"
      ],
      "execution_count": null,
      "outputs": [
        {
          "output_type": "stream",
          "text": [
            "    item_id  Estimate_Score\n",
            "936     136        5.000000\n",
            "31       98        5.000000\n",
            "240     357        5.000000\n",
            "200     318        5.000000\n",
            "239      64        5.000000\n",
            "68       15        5.000000\n",
            "185     178        5.000000\n",
            "538     511        5.000000\n",
            "101     174        5.000000\n",
            "277     169        5.000000\n",
            "9        86        5.000000\n",
            "66      427        5.000000\n",
            "89      275        4.980100\n",
            "62      526        4.973715\n",
            "78      480        4.970231\n",
            "21      486        4.968877\n",
            "485     487        4.955554\n",
            "166     216        4.954819\n",
            "99      496        4.942952\n",
            "666     898        4.942533\n"
          ],
          "name": "stdout"
        }
      ]
    },
    {
      "cell_type": "markdown",
      "metadata": {
        "id": "PYyP-FW_evd3"
      },
      "source": [
        "## NMF"
      ]
    },
    {
      "cell_type": "code",
      "metadata": {
        "colab": {
          "base_uri": "https://localhost:8080/"
        },
        "id": "3teb6YWldv4h",
        "outputId": "2786aa25-e518-4691-c910-cb0192939e13"
      },
      "source": [
        "param_grid = {\n",
        "    \"lr_bu\": [0.002, 0.005],\n",
        "    \"lr_bi\": [0.002, 0.005],\n",
        "}\n",
        "gs3 = GridSearchCV(NMF, param_grid, measures=[\"rmse\", \"mae\"], cv=3)\n",
        "gs3.fit(data)\n",
        "\n",
        "\n",
        "print(gs3.best_score[\"rmse\"])\n",
        "print(gs3.best_params[\"rmse\"])"
      ],
      "execution_count": null,
      "outputs": [
        {
          "output_type": "stream",
          "text": [
            "1.3172200188118472\n",
            "{'lr_bu': 0.002, 'lr_bi': 0.002}\n"
          ],
          "name": "stdout"
        }
      ]
    },
    {
      "cell_type": "code",
      "metadata": {
        "colab": {
          "base_uri": "https://localhost:8080/"
        },
        "id": "ouLH-AZWfYeP",
        "outputId": "6c03c695-6f76-4894-82c2-1fc796b5e4e0"
      },
      "source": [
        "algo3 = NMF(n_epochs=200, lr_bu=0.002,lr_bi=0.002)\n",
        "trainingSet = trainset\n",
        "algo3.fit(trainingSet)"
      ],
      "execution_count": null,
      "outputs": [
        {
          "output_type": "execute_result",
          "data": {
            "text/plain": [
              "<surprise.prediction_algorithms.matrix_factorization.NMF at 0x7fb1194008d0>"
            ]
          },
          "metadata": {
            "tags": []
          },
          "execution_count": 105
        }
      ]
    },
    {
      "cell_type": "code",
      "metadata": {
        "colab": {
          "base_uri": "https://localhost:8080/"
        },
        "id": "6pOsSPWm8Pc5",
        "outputId": "2a1a3d07-ee6b-4cb7-d921-2a5faeb235aa"
      },
      "source": [
        "predictions3 = algo3.test(testset)\n",
        "accuracy.rmse(predictions3)"
      ],
      "execution_count": null,
      "outputs": [
        {
          "output_type": "stream",
          "text": [
            "RMSE: 0.9638\n"
          ],
          "name": "stdout"
        },
        {
          "output_type": "execute_result",
          "data": {
            "text/plain": [
              "0.963755043719562"
            ]
          },
          "metadata": {
            "tags": []
          },
          "execution_count": 106
        }
      ]
    },
    {
      "cell_type": "code",
      "metadata": {
        "colab": {
          "base_uri": "https://localhost:8080/"
        },
        "id": "qk8c-WPQfgfR",
        "outputId": "9ed291d0-0883-4356-cdf4-f9182e7d93b5"
      },
      "source": [
        "prediction3 = algo3.predict('716','204')\n",
        "prediction3.est"
      ],
      "execution_count": null,
      "outputs": [
        {
          "output_type": "execute_result",
          "data": {
            "text/plain": [
              "3.9535203234392133"
            ]
          },
          "metadata": {
            "tags": []
          },
          "execution_count": 107
        }
      ]
    },
    {
      "cell_type": "code",
      "metadata": {
        "id": "NNqYWmUymx81",
        "colab": {
          "base_uri": "https://localhost:8080/"
        },
        "outputId": "3ee8f127-aeaf-4c0f-b750-50f78d22bbaf"
      },
      "source": [
        "titles = pd.DataFrame(dataframe1['item_id'].unique(),columns=['item_id'])\n",
        "\n",
        "titles['Estimate_Score'] = titles['item_id'].apply(lambda x: algo3.predict('716', x).est)\n",
        "titles = titles.sort_values(by=['Estimate_Score'], ascending=False)\n",
        "c=titles.head(20)\n",
        "print(c)"
      ],
      "execution_count": null,
      "outputs": [
        {
          "output_type": "stream",
          "text": [
            "     item_id  Estimate_Score\n",
            "843     1194        4.954226\n",
            "200      318        4.943947\n",
            "170       48        4.933218\n",
            "524      543        4.884201\n",
            "1608    1643        4.882286\n",
            "991     1131        4.881454\n",
            "1323    1398        4.880845\n",
            "239       64        4.863550\n",
            "99       496        4.844015\n",
            "66       427        4.826014\n",
            "180      408        4.815860\n",
            "1571    1642        4.782504\n",
            "719      313        4.755587\n",
            "189      127        4.749261\n",
            "660      657        4.746541\n",
            "56       143        4.740092\n",
            "1559    1251        4.734754\n",
            "1078    1062        4.700144\n",
            "1591    1650        4.696259\n",
            "1666    1636        4.695663\n"
          ],
          "name": "stdout"
        }
      ]
    },
    {
      "cell_type": "markdown",
      "metadata": {
        "id": "No_97RvfvDj3"
      },
      "source": [
        "## Results"
      ]
    },
    {
      "cell_type": "code",
      "metadata": {
        "colab": {
          "base_uri": "https://localhost:8080/"
        },
        "id": "XNNnAsKevFii",
        "outputId": "971f7f5e-85c3-4f65-9f9a-0366bbed7c74"
      },
      "source": [
        "print(a)"
      ],
      "execution_count": null,
      "outputs": [
        {
          "output_type": "stream",
          "text": [
            "     item_id  Estimate_Score\n",
            "1297    1536        5.000000\n",
            "1646    1122        5.000000\n",
            "1647    1201        5.000000\n",
            "1150     814        5.000000\n",
            "1619    1467        5.000000\n",
            "1255    1449        5.000000\n",
            "1579    1653        5.000000\n",
            "1038    1189        5.000000\n",
            "1130    1500        5.000000\n",
            "1287    1125        5.000000\n",
            "1562    1599        5.000000\n",
            "1414    1537        4.910921\n",
            "512      285        4.788870\n",
            "673      641        4.779476\n",
            "125      479        4.736742\n",
            "1131    1463        4.676369\n",
            "1428    1512        4.676040\n",
            "436      661        4.673216\n",
            "574       59        4.612717\n",
            "359      187        4.596261\n"
          ],
          "name": "stdout"
        }
      ]
    },
    {
      "cell_type": "code",
      "metadata": {
        "colab": {
          "base_uri": "https://localhost:8080/"
        },
        "id": "H4XofagAvJW7",
        "outputId": "4c037c17-983b-4ddb-e091-1ea265cbbb13"
      },
      "source": [
        "print(b)"
      ],
      "execution_count": null,
      "outputs": [
        {
          "output_type": "stream",
          "text": [
            "     item_id  Estimate_Score\n",
            "1196     236        5.000000\n",
            "438      692        4.935115\n",
            "550      663        4.905844\n",
            "512      285        4.903552\n",
            "834       67        4.893054\n",
            "389        8        4.854367\n",
            "36       603        4.849368\n",
            "221      153        4.828581\n",
            "289      286        4.827380\n",
            "431      655        4.822139\n",
            "475      506        4.781670\n",
            "57       423        4.773410\n",
            "482      190        4.771102\n",
            "260      134        4.734874\n",
            "249       33        4.723849\n",
            "496      654        4.722235\n",
            "100      132        4.702856\n",
            "574       59        4.676888\n",
            "612      114        4.668941\n",
            "216       56        4.650536\n"
          ],
          "name": "stdout"
        }
      ]
    },
    {
      "cell_type": "code",
      "metadata": {
        "colab": {
          "base_uri": "https://localhost:8080/"
        },
        "id": "SCt8Wym6vLxU",
        "outputId": "83c78a28-52e9-4ce9-aeb2-b123233529b7"
      },
      "source": [
        "print(c)"
      ],
      "execution_count": null,
      "outputs": [
        {
          "output_type": "stream",
          "text": [
            "     item_id  Estimate_Score\n",
            "1560    1233        5.000000\n",
            "996     1242        5.000000\n",
            "1001     954        5.000000\n",
            "1098     902        5.000000\n",
            "569      963        5.000000\n",
            "1084     936        5.000000\n",
            "1473     899        4.934411\n",
            "320       97        4.871460\n",
            "66       427        4.833961\n",
            "71       165        4.828879\n",
            "1051    1172        4.768076\n",
            "225      507        4.765972\n",
            "61       219        4.761520\n",
            "240      357        4.728081\n",
            "1619    1467        4.719639\n",
            "1357    1103        4.711613\n",
            "200      318        4.693205\n",
            "1325     534        4.690482\n",
            "31        98        4.633668\n",
            "160      673        4.628519\n"
          ],
          "name": "stdout"
        }
      ]
    },
    {
      "cell_type": "code",
      "metadata": {
        "colab": {
          "base_uri": "https://localhost:8080/"
        },
        "id": "J3SZsxLZ-AMn",
        "outputId": "499fb0de-b627-48c4-99ee-f364e35bb99b"
      },
      "source": [
        "print(dataframe1.loc[2600,['user_id','item_id','rating']])"
      ],
      "execution_count": null,
      "outputs": [
        {
          "output_type": "stream",
          "text": [
            "user_id     34\n",
            "item_id    242\n",
            "rating       5\n",
            "Name: 2600, dtype: object\n"
          ],
          "name": "stdout"
        }
      ]
    },
    {
      "cell_type": "code",
      "metadata": {
        "colab": {
          "base_uri": "https://localhost:8080/"
        },
        "id": "sbKc1fer-BKL",
        "outputId": "d3042918-882d-4744-e6e4-6f9bfe99a6c0"
      },
      "source": [
        "user=\"34\"\n",
        "item=\"242\"\n",
        "prediction1 = algo1.predict(user,item)\n",
        "prediction2 = algo2.predict(user,item)\n",
        "prediction3 = algo3.predict(user,item)\n",
        "print(prediction1.est)\n",
        "print(prediction2.est)\n",
        "print(prediction3.est)"
      ],
      "execution_count": null,
      "outputs": [
        {
          "output_type": "stream",
          "text": [
            "4.651991838853594\n",
            "4.927318400649833\n",
            "4.647846451535687\n"
          ],
          "name": "stdout"
        }
      ]
    },
    {
      "cell_type": "code",
      "metadata": {
        "id": "L8PjGlF1AxGE"
      },
      "source": [
        ""
      ],
      "execution_count": null,
      "outputs": []
    }
  ]
}