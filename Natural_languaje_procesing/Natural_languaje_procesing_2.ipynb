{
  "nbformat": 4,
  "nbformat_minor": 0,
  "metadata": {
    "colab": {
      "name": "Natural_languaje_procesing_2.ipynb",
      "provenance": [],
      "collapsed_sections": [
        "BesuOEJVywlU",
        "kaYPRgXPy05K",
        "63z33khFy8D3",
        "DwJCijI0y_v_",
        "gsUGbvyk0cAW",
        "IVDwjzti0iop",
        "Y-VMT37h0r7c",
        "ouwNoL2B1N1-",
        "fRbCR4Jq2uub",
        "urK_Bo7l4pQz",
        "Cj0S_jC26PuU"
      ],
      "toc_visible": true
    },
    "kernelspec": {
      "name": "python3",
      "display_name": "Python 3"
    },
    "language_info": {
      "name": "python"
    }
  },
  "cells": [
    {
      "cell_type": "markdown",
      "metadata": {
        "id": "dxP0TUBJyqhA"
      },
      "source": [
        "# Natural languaje procesing 2"
      ]
    },
    {
      "cell_type": "markdown",
      "metadata": {
        "id": "BesuOEJVywlU"
      },
      "source": [
        "## Packages"
      ]
    },
    {
      "cell_type": "code",
      "metadata": {
        "colab": {
          "base_uri": "https://localhost:8080/"
        },
        "id": "7pT-rWO6xNTF",
        "outputId": "ddb0189b-baf6-430a-aa9d-f570913ac5d1"
      },
      "source": [
        "# Tratamiento de datos\n",
        "# ==============================================================================\n",
        "import numpy as np\n",
        "import pandas as pd\n",
        "import string\n",
        "import re\n",
        "\n",
        "# Gráficos\n",
        "# ==============================================================================\n",
        "import matplotlib.pyplot as plt\n",
        "from matplotlib import style\n",
        "import seaborn as sns\n",
        "#style.use('ggplot') or plt.style.use('ggplot')\n",
        "\n",
        "# Preprocesado y modelado\n",
        "# ==============================================================================\n",
        "from sklearn import svm\n",
        "from sklearn.model_selection import train_test_split\n",
        "from sklearn.model_selection import GridSearchCV\n",
        "from sklearn.metrics import confusion_matrix\n",
        "from sklearn.feature_extraction.text import TfidfVectorizer\n",
        "import nltk\n",
        "nltk.download('stopwords')\n",
        "from nltk.corpus import stopwords\n",
        "\n",
        "# Configuración warnings\n",
        "# ==============================================================================\n",
        "import warnings\n",
        "warnings.filterwarnings('ignore')\n"
      ],
      "execution_count": 1,
      "outputs": [
        {
          "output_type": "stream",
          "text": [
            "[nltk_data] Downloading package stopwords to /root/nltk_data...\n",
            "[nltk_data]   Unzipping corpora/stopwords.zip.\n"
          ],
          "name": "stdout"
        }
      ]
    },
    {
      "cell_type": "markdown",
      "metadata": {
        "id": "kaYPRgXPy05K"
      },
      "source": [
        "## Data"
      ]
    },
    {
      "cell_type": "code",
      "metadata": {
        "colab": {
          "base_uri": "https://localhost:8080/"
        },
        "id": "galhViJlxRBp",
        "outputId": "7c267b80-f26b-4c77-93ba-ee339aede043"
      },
      "source": [
        "# Lectura de datos\n",
        "# ==============================================================================\n",
        "url = 'https://raw.githubusercontent.com/JoaquinAmatRodrigo/Estadistica-con-R/master/datos/'\n",
        "tweets_elon   = pd.read_csv(url + \"datos_tweets_@elonmusk.csv\")\n",
        "tweets_edlee  = pd.read_csv(url + \"datos_tweets_@mayoredlee.csv\")\n",
        "tweets_bgates = pd.read_csv(url + \"datos_tweets_@BillGates.csv\")\n",
        "\n",
        "print('Número de tweets @BillGates: ' + str(tweets_bgates.shape[0]))\n",
        "print('Número de tweets @mayoredlee: ' + str(tweets_edlee.shape[0]))\n",
        "print('Número de tweets @elonmusk: ' + str(tweets_elon.shape[0]))\n"
      ],
      "execution_count": 2,
      "outputs": [
        {
          "output_type": "stream",
          "text": [
            "Número de tweets @BillGates: 2087\n",
            "Número de tweets @mayoredlee: 2447\n",
            "Número de tweets @elonmusk: 2678\n"
          ],
          "name": "stdout"
        }
      ]
    },
    {
      "cell_type": "code",
      "metadata": {
        "colab": {
          "base_uri": "https://localhost:8080/",
          "height": 143
        },
        "id": "VwadNpmuxatC",
        "outputId": "42c91101-4c18-40a5-ea1f-ddf80415f6ac"
      },
      "source": [
        "# Se unen los dos dataframes en uno solo\n",
        "tweets = pd.concat([tweets_elon, tweets_edlee, tweets_bgates], ignore_index=True)\n",
        "\n",
        "# Se seleccionan y renombran las columnas de interés\n",
        "tweets = tweets[['screen_name', 'created_at', 'status_id', 'text']]\n",
        "tweets.columns = ['autor', 'fecha', 'id', 'texto']\n",
        "\n",
        "# Parseo de fechas\n",
        "tweets['fecha'] = pd.to_datetime(tweets['fecha'])\n",
        "tweets.head(3)"
      ],
      "execution_count": 3,
      "outputs": [
        {
          "output_type": "execute_result",
          "data": {
            "text/html": [
              "<div>\n",
              "<style scoped>\n",
              "    .dataframe tbody tr th:only-of-type {\n",
              "        vertical-align: middle;\n",
              "    }\n",
              "\n",
              "    .dataframe tbody tr th {\n",
              "        vertical-align: top;\n",
              "    }\n",
              "\n",
              "    .dataframe thead th {\n",
              "        text-align: right;\n",
              "    }\n",
              "</style>\n",
              "<table border=\"1\" class=\"dataframe\">\n",
              "  <thead>\n",
              "    <tr style=\"text-align: right;\">\n",
              "      <th></th>\n",
              "      <th>autor</th>\n",
              "      <th>fecha</th>\n",
              "      <th>id</th>\n",
              "      <th>texto</th>\n",
              "    </tr>\n",
              "  </thead>\n",
              "  <tbody>\n",
              "    <tr>\n",
              "      <th>0</th>\n",
              "      <td>elonmusk</td>\n",
              "      <td>2017-11-09 17:28:57+00:00</td>\n",
              "      <td>9.286758e+17</td>\n",
              "      <td>\"If one day, my words are against science, cho...</td>\n",
              "    </tr>\n",
              "    <tr>\n",
              "      <th>1</th>\n",
              "      <td>elonmusk</td>\n",
              "      <td>2017-11-09 17:12:46+00:00</td>\n",
              "      <td>9.286717e+17</td>\n",
              "      <td>I placed the flowers\\n\\nThree broken ribs\\nA p...</td>\n",
              "    </tr>\n",
              "    <tr>\n",
              "      <th>2</th>\n",
              "      <td>elonmusk</td>\n",
              "      <td>2017-11-08 18:55:13+00:00</td>\n",
              "      <td>9.283351e+17</td>\n",
              "      <td>Atatürk Anıtkabir https://t.co/al3wt0njr6</td>\n",
              "    </tr>\n",
              "  </tbody>\n",
              "</table>\n",
              "</div>"
            ],
            "text/plain": [
              "      autor  ...                                              texto\n",
              "0  elonmusk  ...  \"If one day, my words are against science, cho...\n",
              "1  elonmusk  ...  I placed the flowers\\n\\nThree broken ribs\\nA p...\n",
              "2  elonmusk  ...          Atatürk Anıtkabir https://t.co/al3wt0njr6\n",
              "\n",
              "[3 rows x 4 columns]"
            ]
          },
          "metadata": {
            "tags": []
          },
          "execution_count": 3
        }
      ]
    },
    {
      "cell_type": "markdown",
      "metadata": {
        "id": "63z33khFy8D3"
      },
      "source": [
        "## Showing data"
      ]
    },
    {
      "cell_type": "code",
      "metadata": {
        "colab": {
          "base_uri": "https://localhost:8080/",
          "height": 295
        },
        "id": "Algl-LFtxvla",
        "outputId": "6372ce7c-fa25-4cc0-8dce-a36a6cb4e451"
      },
      "source": [
        "# Distribución temporal de los tweets\n",
        "# ==============================================================================\n",
        "fig, ax = plt.subplots(figsize=(9,4))\n",
        "\n",
        "for autor in tweets.autor.unique():\n",
        "    df_temp = tweets[tweets['autor'] == autor].copy()\n",
        "    df_temp['fecha'] = pd.to_datetime(df_temp['fecha'].dt.strftime('%Y-%m'))\n",
        "    df_temp = df_temp.groupby(df_temp['fecha']).size()\n",
        "    df_temp.plot(label=autor, ax=ax)\n",
        "\n",
        "ax.set_title('Número de tweets publicados por mes')\n",
        "ax.legend();"
      ],
      "execution_count": 4,
      "outputs": [
        {
          "output_type": "display_data",
          "data": {
            "image/png": "[encoded data removed]",
            "text/plain": [
              "<Figure size 648x288 with 1 Axes>"
            ]
          },
          "metadata": {
            "tags": [],
            "needs_background": "light"
          }
        }
      ]
    },
    {
      "cell_type": "markdown",
      "metadata": {
        "id": "DwJCijI0y_v_"
      },
      "source": [
        "## Text procesing"
      ]
    },
    {
      "cell_type": "code",
      "metadata": {
        "colab": {
          "base_uri": "https://localhost:8080/"
        },
        "id": "L84UwO_ByD46",
        "outputId": "f0094bed-9244-4ee0-e315-10e7335f045f"
      },
      "source": [
        "def limpiar_tokenizar(texto):\n",
        "    '''\n",
        "    Esta función limpia y tokeniza el texto en palabras individuales.\n",
        "    El orden en el que se va limpiando el texto no es arbitrario.\n",
        "    El listado de signos de puntuación se ha obtenido de: print(string.punctuation)\n",
        "    y re.escape(string.punctuation)\n",
        "    '''\n",
        "    \n",
        "    # Se convierte todo el texto a minúsculas\n",
        "    nuevo_texto = texto.lower()\n",
        "    # Eliminación de páginas web (palabras que empiezan por \"http\")\n",
        "    nuevo_texto = re.sub('http\\S+', ' ', nuevo_texto)\n",
        "    # Eliminación de signos de puntuación\n",
        "    regex = '[\\\\!\\\\\"\\\\#\\\\$\\\\%\\\\&\\\\\\'\\\\(\\\\)\\\\*\\\\+\\\\,\\\\-\\\\.\\\\/\\\\:\\\\;\\\\<\\\\=\\\\>\\\\?\\\\@\\\\[\\\\\\\\\\\\]\\\\^_\\\\`\\\\{\\\\|\\\\}\\\\~]'\n",
        "    nuevo_texto = re.sub(regex , ' ', nuevo_texto)\n",
        "    # Eliminación de números\n",
        "    nuevo_texto = re.sub(\"\\d+\", ' ', nuevo_texto)\n",
        "    # Eliminación de espacios en blanco múltiples\n",
        "    nuevo_texto = re.sub(\"\\\\s+\", ' ', nuevo_texto)\n",
        "    # Tokenización por palabras individuales\n",
        "    nuevo_texto = nuevo_texto.split(sep = ' ')\n",
        "    # Eliminación de tokens con una longitud < 2\n",
        "    nuevo_texto = [token for token in nuevo_texto if len(token) > 1]\n",
        "    \n",
        "    return(nuevo_texto)\n",
        "\n",
        "test = \"Esto es 1 ejemplo de l'limpieza de6 TEXTO  https://t.co/rnHPgyhx4Z @cienciadedatos #textmining\"\n",
        "print(test)\n",
        "print(limpiar_tokenizar(texto=test))"
      ],
      "execution_count": 5,
      "outputs": [
        {
          "output_type": "stream",
          "text": [
            "Esto es 1 ejemplo de l'limpieza de6 TEXTO  https://t.co/rnHPgyhx4Z @cienciadedatos #textmining\n",
            "['esto', 'es', 'ejemplo', 'de', 'limpieza', 'de', 'texto', 'cienciadedatos', 'textmining']\n"
          ],
          "name": "stdout"
        }
      ]
    },
    {
      "cell_type": "code",
      "metadata": {
        "colab": {
          "base_uri": "https://localhost:8080/",
          "height": 206
        },
        "id": "WKVmg7_-ybcy",
        "outputId": "5af97324-f7f1-46b8-9d8c-93f08e6da6b8"
      },
      "source": [
        "# Se aplica la función de limpieza y tokenización a cada tweet\n",
        "# ==============================================================================\n",
        "tweets['texto_tokenizado'] = tweets['texto'].apply(lambda x: limpiar_tokenizar(x))\n",
        "tweets[['texto', 'texto_tokenizado']].head()"
      ],
      "execution_count": 7,
      "outputs": [
        {
          "output_type": "execute_result",
          "data": {
            "text/html": [
              "<div>\n",
              "<style scoped>\n",
              "    .dataframe tbody tr th:only-of-type {\n",
              "        vertical-align: middle;\n",
              "    }\n",
              "\n",
              "    .dataframe tbody tr th {\n",
              "        vertical-align: top;\n",
              "    }\n",
              "\n",
              "    .dataframe thead th {\n",
              "        text-align: right;\n",
              "    }\n",
              "</style>\n",
              "<table border=\"1\" class=\"dataframe\">\n",
              "  <thead>\n",
              "    <tr style=\"text-align: right;\">\n",
              "      <th></th>\n",
              "      <th>texto</th>\n",
              "      <th>texto_tokenizado</th>\n",
              "    </tr>\n",
              "  </thead>\n",
              "  <tbody>\n",
              "    <tr>\n",
              "      <th>0</th>\n",
              "      <td>\"If one day, my words are against science, cho...</td>\n",
              "      <td>[if, one, day, my, words, are, against, scienc...</td>\n",
              "    </tr>\n",
              "    <tr>\n",
              "      <th>1</th>\n",
              "      <td>I placed the flowers\\n\\nThree broken ribs\\nA p...</td>\n",
              "      <td>[placed, the, flowers, three, broken, ribs, pi...</td>\n",
              "    </tr>\n",
              "    <tr>\n",
              "      <th>2</th>\n",
              "      <td>Atatürk Anıtkabir https://t.co/al3wt0njr6</td>\n",
              "      <td>[atatürk, anıtkabir]</td>\n",
              "    </tr>\n",
              "    <tr>\n",
              "      <th>3</th>\n",
              "      <td>@Bob_Richards One rocket, slightly toasted</td>\n",
              "      <td>[bob, richards, one, rocket, slightly, toasted]</td>\n",
              "    </tr>\n",
              "    <tr>\n",
              "      <th>4</th>\n",
              "      <td>@uncover007 500 ft so far. Should be 2 miles l...</td>\n",
              "      <td>[uncover, ft, so, far, should, be, miles, long...</td>\n",
              "    </tr>\n",
              "  </tbody>\n",
              "</table>\n",
              "</div>"
            ],
            "text/plain": [
              "                                               texto                                   texto_tokenizado\n",
              "0  \"If one day, my words are against science, cho...  [if, one, day, my, words, are, against, scienc...\n",
              "1  I placed the flowers\\n\\nThree broken ribs\\nA p...  [placed, the, flowers, three, broken, ribs, pi...\n",
              "2          Atatürk Anıtkabir https://t.co/al3wt0njr6                               [atatürk, anıtkabir]\n",
              "3         @Bob_Richards One rocket, slightly toasted    [bob, richards, one, rocket, slightly, toasted]\n",
              "4  @uncover007 500 ft so far. Should be 2 miles l...  [uncover, ft, so, far, should, be, miles, long..."
            ]
          },
          "metadata": {
            "tags": []
          },
          "execution_count": 7
        }
      ]
    },
    {
      "cell_type": "markdown",
      "metadata": {
        "id": "5D97vRRzzt00"
      },
      "source": [
        "## Analysis"
      ]
    },
    {
      "cell_type": "markdown",
      "metadata": {
        "id": "gsUGbvyk0cAW"
      },
      "source": [
        "### Words of each author"
      ]
    },
    {
      "cell_type": "code",
      "metadata": {
        "colab": {
          "base_uri": "https://localhost:8080/",
          "height": 143
        },
        "id": "gnlz64fVykes",
        "outputId": "4e38e348-a1bb-4bca-af35-c7d3177131e0"
      },
      "source": [
        "# Unnest de la columna texto_tokenizado\n",
        "# ==============================================================================\n",
        "tweets_tidy = tweets.explode(column='texto_tokenizado')\n",
        "tweets_tidy = tweets_tidy.drop(columns='texto')\n",
        "tweets_tidy = tweets_tidy.rename(columns={'texto_tokenizado':'token'})\n",
        "tweets_tidy.head(3)"
      ],
      "execution_count": 8,
      "outputs": [
        {
          "output_type": "execute_result",
          "data": {
            "text/html": [
              "<div>\n",
              "<style scoped>\n",
              "    .dataframe tbody tr th:only-of-type {\n",
              "        vertical-align: middle;\n",
              "    }\n",
              "\n",
              "    .dataframe tbody tr th {\n",
              "        vertical-align: top;\n",
              "    }\n",
              "\n",
              "    .dataframe thead th {\n",
              "        text-align: right;\n",
              "    }\n",
              "</style>\n",
              "<table border=\"1\" class=\"dataframe\">\n",
              "  <thead>\n",
              "    <tr style=\"text-align: right;\">\n",
              "      <th></th>\n",
              "      <th>autor</th>\n",
              "      <th>fecha</th>\n",
              "      <th>id</th>\n",
              "      <th>token</th>\n",
              "    </tr>\n",
              "  </thead>\n",
              "  <tbody>\n",
              "    <tr>\n",
              "      <th>0</th>\n",
              "      <td>elonmusk</td>\n",
              "      <td>2017-11-09 17:28:57+00:00</td>\n",
              "      <td>9.286758e+17</td>\n",
              "      <td>if</td>\n",
              "    </tr>\n",
              "    <tr>\n",
              "      <th>0</th>\n",
              "      <td>elonmusk</td>\n",
              "      <td>2017-11-09 17:28:57+00:00</td>\n",
              "      <td>9.286758e+17</td>\n",
              "      <td>one</td>\n",
              "    </tr>\n",
              "    <tr>\n",
              "      <th>0</th>\n",
              "      <td>elonmusk</td>\n",
              "      <td>2017-11-09 17:28:57+00:00</td>\n",
              "      <td>9.286758e+17</td>\n",
              "      <td>day</td>\n",
              "    </tr>\n",
              "  </tbody>\n",
              "</table>\n",
              "</div>"
            ],
            "text/plain": [
              "      autor                     fecha            id token\n",
              "0  elonmusk 2017-11-09 17:28:57+00:00  9.286758e+17    if\n",
              "0  elonmusk 2017-11-09 17:28:57+00:00  9.286758e+17   one\n",
              "0  elonmusk 2017-11-09 17:28:57+00:00  9.286758e+17   day"
            ]
          },
          "metadata": {
            "tags": []
          },
          "execution_count": 8
        }
      ]
    },
    {
      "cell_type": "markdown",
      "metadata": {
        "id": "IVDwjzti0iop"
      },
      "source": [
        "### Different words used by each author "
      ]
    },
    {
      "cell_type": "code",
      "metadata": {
        "colab": {
          "base_uri": "https://localhost:8080/"
        },
        "id": "_ONDG64lzx8b",
        "outputId": "d9d0c050-1e27-4951-8e7a-1ca86d103c47"
      },
      "source": [
        "# Palabras distintas utilizadas por cada autor\n",
        "# ==============================================================================\n",
        "print('----------------------------')\n",
        "print('Palabras distintas por autor')\n",
        "print('----------------------------')\n",
        "tweets_tidy.groupby(by='autor')['token'].nunique()"
      ],
      "execution_count": 9,
      "outputs": [
        {
          "output_type": "stream",
          "text": [
            "----------------------------\n",
            "Palabras distintas por autor\n",
            "----------------------------\n"
          ],
          "name": "stdout"
        },
        {
          "output_type": "execute_result",
          "data": {
            "text/plain": [
              "autor\n",
              "BillGates     4848\n",
              "elonmusk      6628\n",
              "mayoredlee    5770\n",
              "Name: token, dtype: int64"
            ]
          },
          "metadata": {
            "tags": []
          },
          "execution_count": 9
        }
      ]
    },
    {
      "cell_type": "markdown",
      "metadata": {
        "id": "Y-VMT37h0r7c"
      },
      "source": [
        "### Lenght of tweets"
      ]
    },
    {
      "cell_type": "code",
      "metadata": {
        "colab": {
          "base_uri": "https://localhost:8080/",
          "height": 175
        },
        "id": "g7ADKCsy0KJO",
        "outputId": "b6a3fca4-0160-42e7-e626-b3e3579ce6bb"
      },
      "source": [
        "# Longitud media y desviación de los tweets de cada autor\n",
        "# ==============================================================================\n",
        "temp_df = pd.DataFrame(tweets_tidy.groupby(by = [\"autor\", \"id\"])[\"token\"].count())\n",
        "temp_df.reset_index().groupby(\"autor\")[\"token\"].agg(['mean', 'std'])"
      ],
      "execution_count": 10,
      "outputs": [
        {
          "output_type": "execute_result",
          "data": {
            "text/html": [
              "<div>\n",
              "<style scoped>\n",
              "    .dataframe tbody tr th:only-of-type {\n",
              "        vertical-align: middle;\n",
              "    }\n",
              "\n",
              "    .dataframe tbody tr th {\n",
              "        vertical-align: top;\n",
              "    }\n",
              "\n",
              "    .dataframe thead th {\n",
              "        text-align: right;\n",
              "    }\n",
              "</style>\n",
              "<table border=\"1\" class=\"dataframe\">\n",
              "  <thead>\n",
              "    <tr style=\"text-align: right;\">\n",
              "      <th></th>\n",
              "      <th>mean</th>\n",
              "      <th>std</th>\n",
              "    </tr>\n",
              "    <tr>\n",
              "      <th>autor</th>\n",
              "      <th></th>\n",
              "      <th></th>\n",
              "    </tr>\n",
              "  </thead>\n",
              "  <tbody>\n",
              "    <tr>\n",
              "      <th>BillGates</th>\n",
              "      <td>15.144231</td>\n",
              "      <td>3.347354</td>\n",
              "    </tr>\n",
              "    <tr>\n",
              "      <th>elonmusk</th>\n",
              "      <td>12.611257</td>\n",
              "      <td>6.933870</td>\n",
              "    </tr>\n",
              "    <tr>\n",
              "      <th>mayoredlee</th>\n",
              "      <td>17.170152</td>\n",
              "      <td>3.486314</td>\n",
              "    </tr>\n",
              "  </tbody>\n",
              "</table>\n",
              "</div>"
            ],
            "text/plain": [
              "                 mean       std\n",
              "autor                          \n",
              "BillGates   15.144231  3.347354\n",
              "elonmusk    12.611257  6.933870\n",
              "mayoredlee  17.170152  3.486314"
            ]
          },
          "metadata": {
            "tags": []
          },
          "execution_count": 10
        }
      ]
    },
    {
      "cell_type": "markdown",
      "metadata": {
        "id": "ouwNoL2B1N1-"
      },
      "source": [
        "### Words used more frequently by each author"
      ]
    },
    {
      "cell_type": "code",
      "metadata": {
        "colab": {
          "base_uri": "https://localhost:8080/",
          "height": 551
        },
        "id": "9a1Dt6LS01ln",
        "outputId": "b348421c-f816-4eaf-9311-5b0e8a9e429c"
      },
      "source": [
        "# Top 5 palabras más utilizadas por cada autor\n",
        "# ==============================================================================\n",
        "tweets_tidy.groupby(['autor','token'])['token'] \\\n",
        " .count() \\\n",
        " .reset_index(name='count') \\\n",
        " .groupby('autor') \\\n",
        " .apply(lambda x: x.sort_values('count', ascending=False).head(5))"
      ],
      "execution_count": 11,
      "outputs": [
        {
          "output_type": "execute_result",
          "data": {
            "text/html": [
              "<div>\n",
              "<style scoped>\n",
              "    .dataframe tbody tr th:only-of-type {\n",
              "        vertical-align: middle;\n",
              "    }\n",
              "\n",
              "    .dataframe tbody tr th {\n",
              "        vertical-align: top;\n",
              "    }\n",
              "\n",
              "    .dataframe thead th {\n",
              "        text-align: right;\n",
              "    }\n",
              "</style>\n",
              "<table border=\"1\" class=\"dataframe\">\n",
              "  <thead>\n",
              "    <tr style=\"text-align: right;\">\n",
              "      <th></th>\n",
              "      <th></th>\n",
              "      <th>autor</th>\n",
              "      <th>token</th>\n",
              "      <th>count</th>\n",
              "    </tr>\n",
              "    <tr>\n",
              "      <th>autor</th>\n",
              "      <th></th>\n",
              "      <th></th>\n",
              "      <th></th>\n",
              "      <th></th>\n",
              "    </tr>\n",
              "  </thead>\n",
              "  <tbody>\n",
              "    <tr>\n",
              "      <th rowspan=\"5\" valign=\"top\">BillGates</th>\n",
              "      <th>4195</th>\n",
              "      <td>BillGates</td>\n",
              "      <td>the</td>\n",
              "      <td>1178</td>\n",
              "    </tr>\n",
              "    <tr>\n",
              "      <th>4271</th>\n",
              "      <td>BillGates</td>\n",
              "      <td>to</td>\n",
              "      <td>1115</td>\n",
              "    </tr>\n",
              "    <tr>\n",
              "      <th>2930</th>\n",
              "      <td>BillGates</td>\n",
              "      <td>of</td>\n",
              "      <td>669</td>\n",
              "    </tr>\n",
              "    <tr>\n",
              "      <th>2084</th>\n",
              "      <td>BillGates</td>\n",
              "      <td>in</td>\n",
              "      <td>590</td>\n",
              "    </tr>\n",
              "    <tr>\n",
              "      <th>2207</th>\n",
              "      <td>BillGates</td>\n",
              "      <td>is</td>\n",
              "      <td>452</td>\n",
              "    </tr>\n",
              "    <tr>\n",
              "      <th rowspan=\"5\" valign=\"top\">elonmusk</th>\n",
              "      <th>10699</th>\n",
              "      <td>elonmusk</td>\n",
              "      <td>the</td>\n",
              "      <td>983</td>\n",
              "    </tr>\n",
              "    <tr>\n",
              "      <th>10816</th>\n",
              "      <td>elonmusk</td>\n",
              "      <td>to</td>\n",
              "      <td>913</td>\n",
              "    </tr>\n",
              "    <tr>\n",
              "      <th>8859</th>\n",
              "      <td>elonmusk</td>\n",
              "      <td>of</td>\n",
              "      <td>638</td>\n",
              "    </tr>\n",
              "    <tr>\n",
              "      <th>7801</th>\n",
              "      <td>elonmusk</td>\n",
              "      <td>is</td>\n",
              "      <td>542</td>\n",
              "    </tr>\n",
              "    <tr>\n",
              "      <th>7656</th>\n",
              "      <td>elonmusk</td>\n",
              "      <td>in</td>\n",
              "      <td>476</td>\n",
              "    </tr>\n",
              "    <tr>\n",
              "      <th rowspan=\"5\" valign=\"top\">mayoredlee</th>\n",
              "      <th>16650</th>\n",
              "      <td>mayoredlee</td>\n",
              "      <td>to</td>\n",
              "      <td>1684</td>\n",
              "    </tr>\n",
              "    <tr>\n",
              "      <th>16568</th>\n",
              "      <td>mayoredlee</td>\n",
              "      <td>the</td>\n",
              "      <td>1338</td>\n",
              "    </tr>\n",
              "    <tr>\n",
              "      <th>11669</th>\n",
              "      <td>mayoredlee</td>\n",
              "      <td>amp</td>\n",
              "      <td>1212</td>\n",
              "    </tr>\n",
              "    <tr>\n",
              "      <th>14957</th>\n",
              "      <td>mayoredlee</td>\n",
              "      <td>our</td>\n",
              "      <td>1096</td>\n",
              "    </tr>\n",
              "    <tr>\n",
              "      <th>15964</th>\n",
              "      <td>mayoredlee</td>\n",
              "      <td>sf</td>\n",
              "      <td>909</td>\n",
              "    </tr>\n",
              "  </tbody>\n",
              "</table>\n",
              "</div>"
            ],
            "text/plain": [
              "                       autor token  count\n",
              "autor                                    \n",
              "BillGates  4195    BillGates   the   1178\n",
              "           4271    BillGates    to   1115\n",
              "           2930    BillGates    of    669\n",
              "           2084    BillGates    in    590\n",
              "           2207    BillGates    is    452\n",
              "elonmusk   10699    elonmusk   the    983\n",
              "           10816    elonmusk    to    913\n",
              "           8859     elonmusk    of    638\n",
              "           7801     elonmusk    is    542\n",
              "           7656     elonmusk    in    476\n",
              "mayoredlee 16650  mayoredlee    to   1684\n",
              "           16568  mayoredlee   the   1338\n",
              "           11669  mayoredlee   amp   1212\n",
              "           14957  mayoredlee   our   1096\n",
              "           15964  mayoredlee    sf    909"
            ]
          },
          "metadata": {
            "tags": []
          },
          "execution_count": 11
        }
      ]
    },
    {
      "cell_type": "code",
      "metadata": {
        "colab": {
          "base_uri": "https://localhost:8080/"
        },
        "id": "Fwf-CRr51SB6",
        "outputId": "3a63d156-41e4-4574-b276-7ab96aa4efb6"
      },
      "source": [
        "# Obtención de listado de stopwords del inglés\n",
        "# ==============================================================================\n",
        "stop_words = list(stopwords.words('english'))\n",
        "# Se añade la stoprword: amp, ax, ex\n",
        "stop_words.extend((\"amp\", \"xa\", \"xe\"))\n",
        "print(stop_words[:10])"
      ],
      "execution_count": null,
      "outputs": [
        {
          "output_type": "stream",
          "text": [
            "['i', 'me', 'my', 'myself', 'we', 'our', 'ours', 'ourselves', 'you', \"you're\"]\n"
          ],
          "name": "stdout"
        }
      ]
    },
    {
      "cell_type": "code",
      "metadata": {
        "id": "nEG9Rten1ilv"
      },
      "source": [
        "# Filtrado para excluir stopwords\n",
        "# ==============================================================================\n",
        "tweets_tidy = tweets_tidy[~(tweets_tidy[\"token\"].isin(stop_words))]"
      ],
      "execution_count": null,
      "outputs": []
    },
    {
      "cell_type": "code",
      "metadata": {
        "colab": {
          "base_uri": "https://localhost:8080/",
          "height": 513
        },
        "id": "cW1zkDfo2Wzu",
        "outputId": "a7b95ca7-5042-4758-f4f3-7e1d4b9e0d63"
      },
      "source": [
        "# Top 10 palabras por autor (sin stopwords)\n",
        "# ==============================================================================\n",
        "fig, axs = plt.subplots(nrows=3, ncols=1,figsize=(6, 7))\n",
        "for i, autor in enumerate(tweets_tidy.autor.unique()):\n",
        "    df_temp = tweets_tidy[tweets_tidy.autor == autor]\n",
        "    counts  = df_temp['token'].value_counts(ascending=False).head(10)\n",
        "    counts.plot(kind='barh', color='firebrick', ax=axs[i])\n",
        "    axs[i].invert_yaxis()\n",
        "    axs[i].set_title(autor)\n",
        "\n",
        "fig.tight_layout()"
      ],
      "execution_count": null,
      "outputs": [
        {
          "output_type": "display_data",
          "data": {
            "image/png": "[encoded data removed]",
            "text/plain": [
              "<Figure size 432x504 with 3 Axes>"
            ]
          },
          "metadata": {
            "tags": [],
            "needs_background": "light"
          }
        }
      ]
    },
    {
      "cell_type": "markdown",
      "metadata": {
        "id": "fRbCR4Jq2uub"
      },
      "source": [
        "### Correlation between authors"
      ]
    },
    {
      "cell_type": "code",
      "metadata": {
        "id": "ZzHCRbGF2ZUQ"
      },
      "source": [
        "# Pivotado de datos\n",
        "# ==============================================================================\n",
        "tweets_pivot = tweets_tidy.groupby([\"autor\",\"token\"])[\"token\"] \\\n",
        "                .agg([\"count\"]).reset_index() \\\n",
        "                .pivot(index = \"token\" , columns=\"autor\", values= \"count\")\n",
        "tweets_pivot.columns.name = None"
      ],
      "execution_count": 12,
      "outputs": []
    },
    {
      "cell_type": "code",
      "metadata": {
        "colab": {
          "base_uri": "https://localhost:8080/",
          "height": 143
        },
        "id": "hemp5q9z3BJ2",
        "outputId": "99d65e9d-493b-48c8-acc1-98d59c10eebd"
      },
      "source": [
        "# Test de correlación (coseno) por el uso y frecuencia de palabras\n",
        "# ==============================================================================\n",
        "from scipy.spatial.distance import cosine\n",
        "\n",
        "def similitud_coseno(a,b):\n",
        "    distancia = cosine(a,b)\n",
        "    return 1-distancia\n",
        "\n",
        "tweets_pivot.corr(method=similitud_coseno)"
      ],
      "execution_count": 13,
      "outputs": [
        {
          "output_type": "execute_result",
          "data": {
            "text/html": [
              "<div>\n",
              "<style scoped>\n",
              "    .dataframe tbody tr th:only-of-type {\n",
              "        vertical-align: middle;\n",
              "    }\n",
              "\n",
              "    .dataframe tbody tr th {\n",
              "        vertical-align: top;\n",
              "    }\n",
              "\n",
              "    .dataframe thead th {\n",
              "        text-align: right;\n",
              "    }\n",
              "</style>\n",
              "<table border=\"1\" class=\"dataframe\">\n",
              "  <thead>\n",
              "    <tr style=\"text-align: right;\">\n",
              "      <th></th>\n",
              "      <th>BillGates</th>\n",
              "      <th>elonmusk</th>\n",
              "      <th>mayoredlee</th>\n",
              "    </tr>\n",
              "  </thead>\n",
              "  <tbody>\n",
              "    <tr>\n",
              "      <th>BillGates</th>\n",
              "      <td>1.000000</td>\n",
              "      <td>0.924141</td>\n",
              "      <td>0.820876</td>\n",
              "    </tr>\n",
              "    <tr>\n",
              "      <th>elonmusk</th>\n",
              "      <td>0.924141</td>\n",
              "      <td>1.000000</td>\n",
              "      <td>0.781793</td>\n",
              "    </tr>\n",
              "    <tr>\n",
              "      <th>mayoredlee</th>\n",
              "      <td>0.820876</td>\n",
              "      <td>0.781793</td>\n",
              "      <td>1.000000</td>\n",
              "    </tr>\n",
              "  </tbody>\n",
              "</table>\n",
              "</div>"
            ],
            "text/plain": [
              "            BillGates  elonmusk  mayoredlee\n",
              "BillGates    1.000000  0.924141    0.820876\n",
              "elonmusk     0.924141  1.000000    0.781793\n",
              "mayoredlee   0.820876  0.781793    1.000000"
            ]
          },
          "metadata": {
            "tags": []
          },
          "execution_count": 13
        }
      ]
    },
    {
      "cell_type": "code",
      "metadata": {
        "colab": {
          "base_uri": "https://localhost:8080/"
        },
        "id": "Cj9DeaKL3KOG",
        "outputId": "ed2b8fa1-77df-4303-f704-90ed7fb61ddf"
      },
      "source": [
        "# Número de palabras comunes\n",
        "# ==============================================================================\n",
        "palabras_elon = set(tweets_tidy[tweets_tidy.autor == 'elonmusk']['token'])\n",
        "palabras_bill = set(tweets_tidy[tweets_tidy.autor == 'BillGates']['token'])\n",
        "palabras_edlee = set(tweets_tidy[tweets_tidy.autor == 'mayoredlee']['token'])\n",
        "\n",
        "print(f\"Palabras comunes entre Elon Musk y Ed Lee: {len(palabras_elon.intersection(palabras_edlee))}\")\n",
        "print(f\"Palabras comunes entre Elon Elon Musk y Bill Gates: {len(palabras_elon.intersection(palabras_bill))}\")"
      ],
      "execution_count": null,
      "outputs": [
        {
          "output_type": "stream",
          "text": [
            "Palabras comunes entre Elon Musk y Ed Lee: 1760\n",
            "Palabras comunes entre Elon Elon Musk y Bill Gates: 1758\n"
          ],
          "name": "stdout"
        }
      ]
    },
    {
      "cell_type": "markdown",
      "metadata": {
        "id": "urK_Bo7l4pQz"
      },
      "source": [
        "### Comparation between the most importants words of two authors"
      ]
    },
    {
      "cell_type": "code",
      "metadata": {
        "id": "WN-okf4d4twX"
      },
      "source": [
        "# Cálculo del log of odds ratio de cada palabra (elonmusk vs mayoredlee)\n",
        "# ==============================================================================\n",
        "# Pivotaje y despivotaje\n",
        "tweets_pivot = tweets_tidy.groupby([\"autor\",\"token\"])[\"token\"] \\\n",
        "                .agg([\"count\"]).reset_index() \\\n",
        "                .pivot(index = \"token\" , columns=\"autor\", values= \"count\")\n",
        "\n",
        "tweets_pivot = tweets_pivot.fillna(value=0)\n",
        "tweets_pivot.columns.name = None\n",
        "\n",
        "tweets_unpivot = tweets_pivot.melt(value_name='n', var_name='autor', ignore_index=False)\n",
        "tweets_unpivot = tweets_unpivot.reset_index()\n",
        "\n",
        "# Selección de los autores elonmusk y mayoredlee\n",
        "tweets_unpivot = tweets_unpivot[tweets_unpivot.autor.isin(['elonmusk', 'mayoredlee'])]\n",
        "\n",
        "# Se añade el total de palabras de cada autor\n",
        "tweets_unpivot = tweets_unpivot.merge(\n",
        "                    tweets_tidy.groupby('autor')['token'].count().rename('N'),\n",
        "                    how = 'left',\n",
        "                    on  = 'autor'\n",
        "                 )\n",
        "\n",
        "# Cálculo de odds y log of odds de cada palabra\n",
        "tweets_logOdds = tweets_unpivot.copy()\n",
        "tweets_logOdds['odds'] = (tweets_logOdds.n + 1) / (tweets_logOdds.N + 1)\n",
        "tweets_logOdds = tweets_logOdds[['token', 'autor', 'odds']] \\\n",
        "                    .pivot(index='token', columns='autor', values='odds')\n",
        "tweets_logOdds.columns.name = None\n",
        "\n",
        "tweets_logOdds['log_odds']     = np.log(tweets_logOdds.elonmusk/tweets_logOdds.mayoredlee)\n",
        "tweets_logOdds['abs_log_odds'] = np.abs(tweets_logOdds.log_odds)\n",
        "\n",
        "# Si el logaritmo de odds es mayor que cero, significa que es una palabra con\n",
        "# mayor probabilidad de ser de Elon Musk. Esto es así porque el ratio sea ha\n",
        "# calculado como elonmusk/mayoredlee.\n",
        "tweets_logOdds['autor_frecuente'] = np.where(tweets_logOdds.log_odds > 0,\n",
        "                                              \"elonmusk\",\n",
        "                                              \"mayoredlee\"\n",
        "                                    )"
      ],
      "execution_count": 14,
      "outputs": []
    },
    {
      "cell_type": "code",
      "metadata": {
        "colab": {
          "base_uri": "https://localhost:8080/",
          "height": 447
        },
        "id": "5UqHKbnn4zGM",
        "outputId": "a4448bf5-d5ba-49b7-886d-b20344ec29dc"
      },
      "source": [
        "print('-----------------------------------')\n",
        "print('Top 10 palabras más diferenciadoras')\n",
        "print('-----------------------------------')\n",
        "tweets_logOdds.sort_values('abs_log_odds', ascending=False).head(10)"
      ],
      "execution_count": 15,
      "outputs": [
        {
          "output_type": "stream",
          "text": [
            "-----------------------------------\n",
            "Top 10 palabras más diferenciadoras\n",
            "-----------------------------------\n"
          ],
          "name": "stdout"
        },
        {
          "output_type": "execute_result",
          "data": {
            "text/html": [
              "<div>\n",
              "<style scoped>\n",
              "    .dataframe tbody tr th:only-of-type {\n",
              "        vertical-align: middle;\n",
              "    }\n",
              "\n",
              "    .dataframe tbody tr th {\n",
              "        vertical-align: top;\n",
              "    }\n",
              "\n",
              "    .dataframe thead th {\n",
              "        text-align: right;\n",
              "    }\n",
              "</style>\n",
              "<table border=\"1\" class=\"dataframe\">\n",
              "  <thead>\n",
              "    <tr style=\"text-align: right;\">\n",
              "      <th></th>\n",
              "      <th>elonmusk</th>\n",
              "      <th>mayoredlee</th>\n",
              "      <th>log_odds</th>\n",
              "      <th>abs_log_odds</th>\n",
              "      <th>autor_frecuente</th>\n",
              "    </tr>\n",
              "    <tr>\n",
              "      <th>token</th>\n",
              "      <th></th>\n",
              "      <th></th>\n",
              "      <th></th>\n",
              "      <th></th>\n",
              "      <th></th>\n",
              "    </tr>\n",
              "  </thead>\n",
              "  <tbody>\n",
              "    <tr>\n",
              "      <th>tesla</th>\n",
              "      <td>0.008123</td>\n",
              "      <td>0.000024</td>\n",
              "      <td>5.829433</td>\n",
              "      <td>5.829433</td>\n",
              "      <td>elonmusk</td>\n",
              "    </tr>\n",
              "    <tr>\n",
              "      <th>residents</th>\n",
              "      <td>0.000030</td>\n",
              "      <td>0.006328</td>\n",
              "      <td>-5.359769</td>\n",
              "      <td>5.359769</td>\n",
              "      <td>mayoredlee</td>\n",
              "    </tr>\n",
              "    <tr>\n",
              "      <th>yes</th>\n",
              "      <td>0.003570</td>\n",
              "      <td>0.000024</td>\n",
              "      <td>5.007453</td>\n",
              "      <td>5.007453</td>\n",
              "      <td>elonmusk</td>\n",
              "    </tr>\n",
              "    <tr>\n",
              "      <th>rocket</th>\n",
              "      <td>0.003273</td>\n",
              "      <td>0.000024</td>\n",
              "      <td>4.920441</td>\n",
              "      <td>4.920441</td>\n",
              "      <td>elonmusk</td>\n",
              "    </tr>\n",
              "    <tr>\n",
              "      <th>spacex</th>\n",
              "      <td>0.003065</td>\n",
              "      <td>0.000024</td>\n",
              "      <td>4.854690</td>\n",
              "      <td>4.854690</td>\n",
              "      <td>elonmusk</td>\n",
              "    </tr>\n",
              "    <tr>\n",
              "      <th>community</th>\n",
              "      <td>0.000030</td>\n",
              "      <td>0.003797</td>\n",
              "      <td>-4.848943</td>\n",
              "      <td>4.848943</td>\n",
              "      <td>mayoredlee</td>\n",
              "    </tr>\n",
              "    <tr>\n",
              "      <th>sf</th>\n",
              "      <td>0.000179</td>\n",
              "      <td>0.021729</td>\n",
              "      <td>-4.801724</td>\n",
              "      <td>4.801724</td>\n",
              "      <td>mayoredlee</td>\n",
              "    </tr>\n",
              "    <tr>\n",
              "      <th>falcon</th>\n",
              "      <td>0.002440</td>\n",
              "      <td>0.000024</td>\n",
              "      <td>4.626680</td>\n",
              "      <td>4.626680</td>\n",
              "      <td>elonmusk</td>\n",
              "    </tr>\n",
              "    <tr>\n",
              "      <th>landing</th>\n",
              "      <td>0.001964</td>\n",
              "      <td>0.000024</td>\n",
              "      <td>4.409616</td>\n",
              "      <td>4.409616</td>\n",
              "      <td>elonmusk</td>\n",
              "    </tr>\n",
              "    <tr>\n",
              "      <th>housing</th>\n",
              "      <td>0.000060</td>\n",
              "      <td>0.004370</td>\n",
              "      <td>-4.296378</td>\n",
              "      <td>4.296378</td>\n",
              "      <td>mayoredlee</td>\n",
              "    </tr>\n",
              "  </tbody>\n",
              "</table>\n",
              "</div>"
            ],
            "text/plain": [
              "           elonmusk  mayoredlee  log_odds  abs_log_odds autor_frecuente\n",
              "token                                                                  \n",
              "tesla      0.008123    0.000024  5.829433      5.829433        elonmusk\n",
              "residents  0.000030    0.006328 -5.359769      5.359769      mayoredlee\n",
              "yes        0.003570    0.000024  5.007453      5.007453        elonmusk\n",
              "rocket     0.003273    0.000024  4.920441      4.920441        elonmusk\n",
              "spacex     0.003065    0.000024  4.854690      4.854690        elonmusk\n",
              "community  0.000030    0.003797 -4.848943      4.848943      mayoredlee\n",
              "sf         0.000179    0.021729 -4.801724      4.801724      mayoredlee\n",
              "falcon     0.002440    0.000024  4.626680      4.626680        elonmusk\n",
              "landing    0.001964    0.000024  4.409616      4.409616        elonmusk\n",
              "housing    0.000060    0.004370 -4.296378      4.296378      mayoredlee"
            ]
          },
          "metadata": {
            "tags": []
          },
          "execution_count": 15
        }
      ]
    },
    {
      "cell_type": "code",
      "metadata": {
        "colab": {
          "base_uri": "https://localhost:8080/",
          "height": 458
        },
        "id": "lgkKtnCF42P7",
        "outputId": "f5305c3c-b7ea-4de3-f54b-0992e482d028"
      },
      "source": [
        "# Top 15 palabras más características de cada autor\n",
        "# ==============================================================================\n",
        "\n",
        "top_30 = tweets_logOdds[['log_odds', 'abs_log_odds', 'autor_frecuente']] \\\n",
        "        .groupby('autor_frecuente') \\\n",
        "        .apply(lambda x: x.nlargest(15, columns='abs_log_odds').reset_index()) \\\n",
        "        .reset_index(drop=True) \\\n",
        "        .sort_values('log_odds')\n",
        "\n",
        "f, ax = plt.subplots(figsize=(4, 7))\n",
        "sns.barplot(\n",
        "    x    = 'log_odds',\n",
        "    y    = 'token',\n",
        "    hue  = 'autor_frecuente',\n",
        "    data = top_30,\n",
        "    ax   = ax\n",
        ")\n",
        "ax.set_title('Top 15 palabras más características de cada autor')\n",
        "ax.set_xlabel('log odds ratio (@elonmusk / mayoredlee)');"
      ],
      "execution_count": 16,
      "outputs": [
        {
          "output_type": "display_data",
          "data": {
            "image/png": "[encoded data removed]",
            "text/plain": [
              "<Figure size 288x504 with 1 Axes>"
            ]
          },
          "metadata": {
            "tags": [],
            "needs_background": "light"
          }
        }
      ]
    },
    {
      "cell_type": "markdown",
      "metadata": {
        "id": "Cj0S_jC26PuU"
      },
      "source": [
        "### Words that define the subject of the text\n",
        "\n"
      ]
    },
    {
      "cell_type": "code",
      "metadata": {
        "colab": {
          "base_uri": "https://localhost:8080/",
          "height": 143
        },
        "id": "mUYvZZUJ5A8q",
        "outputId": "990b95b6-f5ac-41b9-ed08-5761a2b63d9d"
      },
      "source": [
        "# Cálculo term-frecuency (tf)\n",
        "# ==============================================================================\n",
        "tf = tweets_tidy.copy()\n",
        "# Número de veces que aparece cada término en cada tweet\n",
        "tf = tf.groupby([\"id\", \"token\"])[\"token\"].agg([\"count\"]).reset_index()\n",
        "# Se añade una columna con el total de términos por tweet\n",
        "tf['total_count'] = tf.groupby('id')['count'].transform(sum)\n",
        "# Se calcula el tf\n",
        "tf['tf'] = tf[\"count\"] / tf[\"total_count\"]\n",
        "tf.sort_values(by = \"tf\").head(3)"
      ],
      "execution_count": 17,
      "outputs": [
        {
          "output_type": "execute_result",
          "data": {
            "text/html": [
              "<div>\n",
              "<style scoped>\n",
              "    .dataframe tbody tr th:only-of-type {\n",
              "        vertical-align: middle;\n",
              "    }\n",
              "\n",
              "    .dataframe tbody tr th {\n",
              "        vertical-align: top;\n",
              "    }\n",
              "\n",
              "    .dataframe thead th {\n",
              "        text-align: right;\n",
              "    }\n",
              "</style>\n",
              "<table border=\"1\" class=\"dataframe\">\n",
              "  <thead>\n",
              "    <tr style=\"text-align: right;\">\n",
              "      <th></th>\n",
              "      <th>id</th>\n",
              "      <th>token</th>\n",
              "      <th>count</th>\n",
              "      <th>total_count</th>\n",
              "      <th>tf</th>\n",
              "    </tr>\n",
              "  </thead>\n",
              "  <tbody>\n",
              "    <tr>\n",
              "      <th>82366</th>\n",
              "      <td>8.728931e+17</td>\n",
              "      <td>at</td>\n",
              "      <td>1</td>\n",
              "      <td>29</td>\n",
              "      <td>0.034483</td>\n",
              "    </tr>\n",
              "    <tr>\n",
              "      <th>82384</th>\n",
              "      <td>8.728931e+17</td>\n",
              "      <td>to</td>\n",
              "      <td>1</td>\n",
              "      <td>29</td>\n",
              "      <td>0.034483</td>\n",
              "    </tr>\n",
              "    <tr>\n",
              "      <th>82381</th>\n",
              "      <td>8.728931e+17</td>\n",
              "      <td>some</td>\n",
              "      <td>1</td>\n",
              "      <td>29</td>\n",
              "      <td>0.034483</td>\n",
              "    </tr>\n",
              "  </tbody>\n",
              "</table>\n",
              "</div>"
            ],
            "text/plain": [
              "                 id token  count  total_count        tf\n",
              "82366  8.728931e+17    at      1           29  0.034483\n",
              "82384  8.728931e+17    to      1           29  0.034483\n",
              "82381  8.728931e+17  some      1           29  0.034483"
            ]
          },
          "metadata": {
            "tags": []
          },
          "execution_count": 17
        }
      ]
    },
    {
      "cell_type": "code",
      "metadata": {
        "colab": {
          "base_uri": "https://localhost:8080/",
          "height": 143
        },
        "id": "uGnTOsi06T7L",
        "outputId": "b7e630ca-7088-4623-a859-9194d60c87e9"
      },
      "source": [
        "# Inverse document frequency\n",
        "# ==============================================================================\n",
        "idf = tweets_tidy.copy()\n",
        "total_documents = idf[\"id\"].drop_duplicates().count()\n",
        "# Número de documentos (tweets) en los que aparece cada término\n",
        "idf = idf.groupby([\"token\", \"id\"])[\"token\"].agg([\"count\"]).reset_index()\n",
        "idf['n_documentos'] = idf.groupby('token')['count'].transform(sum)\n",
        "# Cálculo del idf\n",
        "idf['idf'] = np.log(total_documents / idf['n_documentos'])\n",
        "idf = idf[[\"token\",\"n_documentos\", \"idf\"]].drop_duplicates()\n",
        "idf.sort_values(by=\"idf\").head(3)"
      ],
      "execution_count": 18,
      "outputs": [
        {
          "output_type": "execute_result",
          "data": {
            "text/html": [
              "<div>\n",
              "<style scoped>\n",
              "    .dataframe tbody tr th:only-of-type {\n",
              "        vertical-align: middle;\n",
              "    }\n",
              "\n",
              "    .dataframe tbody tr th {\n",
              "        vertical-align: top;\n",
              "    }\n",
              "\n",
              "    .dataframe thead th {\n",
              "        text-align: right;\n",
              "    }\n",
              "</style>\n",
              "<table border=\"1\" class=\"dataframe\">\n",
              "  <thead>\n",
              "    <tr style=\"text-align: right;\">\n",
              "      <th></th>\n",
              "      <th>token</th>\n",
              "      <th>n_documentos</th>\n",
              "      <th>idf</th>\n",
              "    </tr>\n",
              "  </thead>\n",
              "  <tbody>\n",
              "    <tr>\n",
              "      <th>86751</th>\n",
              "      <td>to</td>\n",
              "      <td>3712</td>\n",
              "      <td>0.660286</td>\n",
              "    </tr>\n",
              "    <tr>\n",
              "      <th>81551</th>\n",
              "      <td>the</td>\n",
              "      <td>3499</td>\n",
              "      <td>0.719379</td>\n",
              "    </tr>\n",
              "    <tr>\n",
              "      <th>56512</th>\n",
              "      <td>of</td>\n",
              "      <td>2118</td>\n",
              "      <td>1.221384</td>\n",
              "    </tr>\n",
              "  </tbody>\n",
              "</table>\n",
              "</div>"
            ],
            "text/plain": [
              "      token  n_documentos       idf\n",
              "86751    to          3712  0.660286\n",
              "81551   the          3499  0.719379\n",
              "56512    of          2118  1.221384"
            ]
          },
          "metadata": {
            "tags": []
          },
          "execution_count": 18
        }
      ]
    },
    {
      "cell_type": "code",
      "metadata": {
        "colab": {
          "base_uri": "https://localhost:8080/",
          "height": 206
        },
        "id": "CbuRwZTi6ZPc",
        "outputId": "469fa91a-ba5d-4533-d955-775d41e0ceb3"
      },
      "source": [
        "# Term Frequency - Inverse Document Frequency\n",
        "# ==============================================================================\n",
        "tf_idf = pd.merge(left=tf, right=idf, on=\"token\")\n",
        "tf_idf[\"tf_idf\"] = tf_idf[\"tf\"] * tf_idf[\"idf\"]\n",
        "tf_idf.sort_values(by=\"id\").head()"
      ],
      "execution_count": 19,
      "outputs": [
        {
          "output_type": "execute_result",
          "data": {
            "text/html": [
              "<div>\n",
              "<style scoped>\n",
              "    .dataframe tbody tr th:only-of-type {\n",
              "        vertical-align: middle;\n",
              "    }\n",
              "\n",
              "    .dataframe tbody tr th {\n",
              "        vertical-align: top;\n",
              "    }\n",
              "\n",
              "    .dataframe thead th {\n",
              "        text-align: right;\n",
              "    }\n",
              "</style>\n",
              "<table border=\"1\" class=\"dataframe\">\n",
              "  <thead>\n",
              "    <tr style=\"text-align: right;\">\n",
              "      <th></th>\n",
              "      <th>id</th>\n",
              "      <th>token</th>\n",
              "      <th>count</th>\n",
              "      <th>total_count</th>\n",
              "      <th>tf</th>\n",
              "      <th>n_documentos</th>\n",
              "      <th>idf</th>\n",
              "      <th>tf_idf</th>\n",
              "    </tr>\n",
              "  </thead>\n",
              "  <tbody>\n",
              "    <tr>\n",
              "      <th>0</th>\n",
              "      <td>1.195196e+17</td>\n",
              "      <td>efforts</td>\n",
              "      <td>1</td>\n",
              "      <td>17</td>\n",
              "      <td>0.058824</td>\n",
              "      <td>31</td>\n",
              "      <td>5.445624</td>\n",
              "      <td>0.320331</td>\n",
              "    </tr>\n",
              "    <tr>\n",
              "      <th>6591</th>\n",
              "      <td>1.195196e+17</td>\n",
              "      <td>toward</td>\n",
              "      <td>1</td>\n",
              "      <td>17</td>\n",
              "      <td>0.058824</td>\n",
              "      <td>11</td>\n",
              "      <td>6.481716</td>\n",
              "      <td>0.381277</td>\n",
              "    </tr>\n",
              "    <tr>\n",
              "      <th>938</th>\n",
              "      <td>1.195196e+17</td>\n",
              "      <td>the</td>\n",
              "      <td>1</td>\n",
              "      <td>17</td>\n",
              "      <td>0.058824</td>\n",
              "      <td>3499</td>\n",
              "      <td>0.719379</td>\n",
              "      <td>0.042316</td>\n",
              "    </tr>\n",
              "    <tr>\n",
              "      <th>801</th>\n",
              "      <td>1.195196e+17</td>\n",
              "      <td>support</td>\n",
              "      <td>1</td>\n",
              "      <td>17</td>\n",
              "      <td>0.058824</td>\n",
              "      <td>140</td>\n",
              "      <td>3.937969</td>\n",
              "      <td>0.231645</td>\n",
              "    </tr>\n",
              "    <tr>\n",
              "      <th>713</th>\n",
              "      <td>1.195196e+17</td>\n",
              "      <td>proud</td>\n",
              "      <td>1</td>\n",
              "      <td>17</td>\n",
              "      <td>0.058824</td>\n",
              "      <td>88</td>\n",
              "      <td>4.402275</td>\n",
              "      <td>0.258957</td>\n",
              "    </tr>\n",
              "  </tbody>\n",
              "</table>\n",
              "</div>"
            ],
            "text/plain": [
              "                id    token  count  ...  n_documentos       idf    tf_idf\n",
              "0     1.195196e+17  efforts      1  ...            31  5.445624  0.320331\n",
              "6591  1.195196e+17   toward      1  ...            11  6.481716  0.381277\n",
              "938   1.195196e+17      the      1  ...          3499  0.719379  0.042316\n",
              "801   1.195196e+17  support      1  ...           140  3.937969  0.231645\n",
              "713   1.195196e+17    proud      1  ...            88  4.402275  0.258957\n",
              "\n",
              "[5 rows x 8 columns]"
            ]
          },
          "metadata": {
            "tags": []
          },
          "execution_count": 19
        }
      ]
    },
    {
      "cell_type": "code",
      "metadata": {
        "id": "GetYBwfu6b61"
      },
      "source": [
        ""
      ],
      "execution_count": null,
      "outputs": []
    }
  ]
}