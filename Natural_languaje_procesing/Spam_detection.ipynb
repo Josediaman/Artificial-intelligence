{
  "nbformat": 4,
  "nbformat_minor": 0,
  "metadata": {
    "colab": {
      "name": "Spam_detection.ipynb",
      "provenance": [],
      "collapsed_sections": [
        "7TZ37LY1GXMV",
        "evTEtuocHQk6",
        "a4D1tetJLrPe",
        "gFDLV0lfPDY4",
        "L9HHDGtmPd4y",
        "YecOeh2aQBiQ"
      ],
      "toc_visible": true
    },
    "kernelspec": {
      "name": "python3",
      "display_name": "Python 3"
    }
  },
  "cells": [
    {
      "cell_type": "markdown",
      "metadata": {
        "id": "pC0tZFbIQ1_r"
      },
      "source": [
        "# Spam detection"
      ]
    },
    {
      "cell_type": "markdown",
      "metadata": {
        "id": "7TZ37LY1GXMV"
      },
      "source": [
        "## Packages"
      ]
    },
    {
      "cell_type": "code",
      "metadata": {
        "id": "MIfev0OeGTBN"
      },
      "source": [
        "import json\n",
        "import tensorflow as tf\n",
        "from tensorflow.keras.preprocessing.text import Tokenizer\n",
        "from tensorflow.keras.preprocessing.sequence import pad_sequences\n",
        "\n",
        "from string import punctuation\n",
        "import numpy as np\n",
        "import os\n",
        "from distutils.version import LooseVersion\n",
        "import warnings"
      ],
      "execution_count": null,
      "outputs": []
    },
    {
      "cell_type": "markdown",
      "metadata": {
        "id": "evTEtuocHQk6"
      },
      "source": [
        "## Data procesing"
      ]
    },
    {
      "cell_type": "code",
      "metadata": {
        "id": "JLE6GSd0Ga_X"
      },
      "source": [
        "with open('SMSSpamCollection', 'r') as f:\n",
        "    data = f.read()\n",
        "    \n",
        "\n",
        "all_text = ''.join([c for c in data if c not in punctuation])\n",
        "all_text = all_text.lower()\n",
        "\n",
        "# split label and text of each line.\n",
        "messages = all_text.split('\\n')\n",
        "messages = [x.split('\\t') for x in messages if len(x)>=1]\n",
        "[labels, sentences] = np.array([list(x) for x in zip(*messages)])\n",
        "labels = np.array([1 if each == 'spam' else 0 for each in labels])"
      ],
      "execution_count": null,
      "outputs": []
    },
    {
      "cell_type": "markdown",
      "metadata": {
        "id": "a4D1tetJLrPe"
      },
      "source": [
        "## Index of words and senteces as number sequences"
      ]
    },
    {
      "cell_type": "code",
      "metadata": {
        "colab": {
          "base_uri": "https://localhost:8080/"
        },
        "id": "2BORyBfULu13",
        "outputId": "45e4aef6-7e62-4e8f-f5e4-e5c6adba5622"
      },
      "source": [
        "np.shape(sentences)"
      ],
      "execution_count": null,
      "outputs": [
        {
          "output_type": "execute_result",
          "data": {
            "text/plain": [
              "(5574,)"
            ]
          },
          "metadata": {
            "tags": []
          },
          "execution_count": 37
        }
      ]
    },
    {
      "cell_type": "code",
      "metadata": {
        "id": "yWRZCMDjNxyG"
      },
      "source": [
        "training_size = 5000\n",
        "training_sentences = sentences[0:training_size]\n",
        "testing_sentences = sentences[training_size:]\n",
        "training_labels = labels[0:training_size]\n",
        "testing_labels = labels[training_size:]"
      ],
      "execution_count": null,
      "outputs": []
    },
    {
      "cell_type": "code",
      "metadata": {
        "id": "5sax5zAcN3hY"
      },
      "source": [
        "vocab_size = 10000\n",
        "oov_tok = \"<OOV>\"\n",
        "\n",
        "tokenizer = Tokenizer(num_words=vocab_size, oov_token=oov_tok)\n",
        "tokenizer.fit_on_texts(training_sentences)\n",
        "word_index = tokenizer.word_index\n",
        "\n",
        "training_sequences = tokenizer.texts_to_sequences(training_sentences)\n",
        "testing_sequences = tokenizer.texts_to_sequences(testing_sentences)"
      ],
      "execution_count": null,
      "outputs": []
    },
    {
      "cell_type": "code",
      "metadata": {
        "colab": {
          "base_uri": "https://localhost:8080/"
        },
        "id": "he9n6DX0N3eR",
        "outputId": "b4fed972-1366-4463-e082-c737309b28ed"
      },
      "source": [
        "text_lens = [len(x) for x in training_sequences]\n",
        "max(text_lens)"
      ],
      "execution_count": null,
      "outputs": [
        {
          "output_type": "execute_result",
          "data": {
            "text/plain": [
              "171"
            ]
          },
          "metadata": {
            "tags": []
          },
          "execution_count": 40
        }
      ]
    },
    {
      "cell_type": "code",
      "metadata": {
        "id": "yFB-2fyON3Y3"
      },
      "source": [
        "max_length = 171\n",
        "trunc_type='post'\n",
        "padding_type='post'\n",
        "\n",
        "training_padded = pad_sequences(training_sequences, maxlen=max_length, padding=padding_type, truncating=trunc_type)\n",
        "testing_padded = pad_sequences(testing_sequences, maxlen=max_length, padding=padding_type, truncating=trunc_type)"
      ],
      "execution_count": null,
      "outputs": []
    },
    {
      "cell_type": "code",
      "metadata": {
        "id": "75ufMcGOPLZf"
      },
      "source": [
        "training_padded = np.array(training_padded)\n",
        "training_labels = np.array(training_labels)\n",
        "testing_padded = np.array(testing_padded)\n",
        "testing_labels = np.array(testing_labels)"
      ],
      "execution_count": null,
      "outputs": []
    },
    {
      "cell_type": "markdown",
      "metadata": {
        "id": "gFDLV0lfPDY4"
      },
      "source": [
        "## Model"
      ]
    },
    {
      "cell_type": "code",
      "metadata": {
        "colab": {
          "base_uri": "https://localhost:8080/"
        },
        "id": "_evflI3kN3UU",
        "outputId": "3006d125-ad5a-4cc6-ea75-6b0434e960f9"
      },
      "source": [
        "embedding_dim = 16\n",
        "\n",
        "model = tf.keras.Sequential([\n",
        "    tf.keras.layers.Embedding(vocab_size, embedding_dim, input_length=max_length),\n",
        "    tf.keras.layers.Bidirectional(tf.keras.layers.LSTM(32)),\n",
        "    tf.keras.layers.Dense(24, activation='relu'),\n",
        "    tf.keras.layers.Dense(1, activation='sigmoid')\n",
        "])\n",
        "model.compile(loss='binary_crossentropy',optimizer='adam',metrics=['accuracy'])\n",
        "\n",
        "model.summary()"
      ],
      "execution_count": null,
      "outputs": [
        {
          "output_type": "stream",
          "text": [
            "Model: \"sequential\"\n",
            "_________________________________________________________________\n",
            "Layer (type)                 Output Shape              Param #   \n",
            "=================================================================\n",
            "embedding (Embedding)        (None, 171, 16)           160000    \n",
            "_________________________________________________________________\n",
            "bidirectional (Bidirectional (None, 64)                12544     \n",
            "_________________________________________________________________\n",
            "dense (Dense)                (None, 24)                1560      \n",
            "_________________________________________________________________\n",
            "dense_1 (Dense)              (None, 1)                 25        \n",
            "=================================================================\n",
            "Total params: 174,129\n",
            "Trainable params: 174,129\n",
            "Non-trainable params: 0\n",
            "_________________________________________________________________\n"
          ],
          "name": "stdout"
        }
      ]
    },
    {
      "cell_type": "markdown",
      "metadata": {
        "id": "L9HHDGtmPd4y"
      },
      "source": [
        "## Train the model"
      ]
    },
    {
      "cell_type": "code",
      "metadata": {
        "colab": {
          "base_uri": "https://localhost:8080/"
        },
        "id": "SwwqHIqlPdZ3",
        "outputId": "e262fff9-40cb-45c9-ae5b-eb93d0e4fad4"
      },
      "source": [
        "num_epochs = 10\n",
        "history = model.fit(training_padded, training_labels, epochs=num_epochs, validation_data=(testing_padded, testing_labels), verbose=2)"
      ],
      "execution_count": null,
      "outputs": [
        {
          "output_type": "stream",
          "text": [
            "Epoch 1/10\n",
            "157/157 - 19s - loss: 0.2928 - accuracy: 0.8986 - val_loss: 0.0662 - val_accuracy: 0.9826\n",
            "Epoch 2/10\n",
            "157/157 - 15s - loss: 0.0506 - accuracy: 0.9868 - val_loss: 0.0408 - val_accuracy: 0.9826\n",
            "Epoch 3/10\n",
            "157/157 - 15s - loss: 0.0224 - accuracy: 0.9938 - val_loss: 0.0507 - val_accuracy: 0.9861\n",
            "Epoch 4/10\n",
            "157/157 - 15s - loss: 0.0119 - accuracy: 0.9964 - val_loss: 0.0472 - val_accuracy: 0.9861\n",
            "Epoch 5/10\n",
            "157/157 - 14s - loss: 0.0048 - accuracy: 0.9984 - val_loss: 0.0450 - val_accuracy: 0.9861\n",
            "Epoch 6/10\n",
            "157/157 - 14s - loss: 0.0021 - accuracy: 0.9994 - val_loss: 0.0456 - val_accuracy: 0.9895\n",
            "Epoch 7/10\n",
            "157/157 - 15s - loss: 0.0013 - accuracy: 0.9996 - val_loss: 0.0457 - val_accuracy: 0.9895\n",
            "Epoch 8/10\n",
            "157/157 - 15s - loss: 6.0642e-04 - accuracy: 1.0000 - val_loss: 0.0449 - val_accuracy: 0.9913\n",
            "Epoch 9/10\n",
            "157/157 - 15s - loss: 4.5085e-04 - accuracy: 0.9998 - val_loss: 0.0481 - val_accuracy: 0.9895\n",
            "Epoch 10/10\n",
            "157/157 - 15s - loss: 2.7365e-04 - accuracy: 1.0000 - val_loss: 0.0493 - val_accuracy: 0.9913\n"
          ],
          "name": "stdout"
        }
      ]
    },
    {
      "cell_type": "code",
      "metadata": {
        "colab": {
          "base_uri": "https://localhost:8080/",
          "height": 541
        },
        "id": "Dl1gTXjhN3RZ",
        "outputId": "39b38add-e558-4bf1-d4f9-bb7adbe9e1ea"
      },
      "source": [
        "import matplotlib.pyplot as plt\n",
        "\n",
        "def plot_graphs(history, string):\n",
        "  plt.plot(history.history[string])\n",
        "  plt.plot(history.history['val_'+string])\n",
        "  plt.xlabel(\"Epochs\")\n",
        "  plt.ylabel(string)\n",
        "  plt.legend([string, 'val_'+string])\n",
        "  plt.show()\n",
        "  \n",
        "plot_graphs(history, \"accuracy\")\n",
        "plot_graphs(history, \"loss\")"
      ],
      "execution_count": null,
      "outputs": [
        {
          "output_type": "display_data",
          "data": {
            "image/png": "[encoded data removed]",
            "text/plain": [
              "<Figure size 432x288 with 1 Axes>"
            ]
          },
          "metadata": {
            "tags": [],
            "needs_background": "light"
          }
        },
        {
          "output_type": "display_data",
          "data": {
            "image/png": "[encoded data removed]",
            "text/plain": [
              "<Figure size 432x288 with 1 Axes>"
            ]
          },
          "metadata": {
            "tags": [],
            "needs_background": "light"
          }
        }
      ]
    },
    {
      "cell_type": "markdown",
      "metadata": {
        "id": "YecOeh2aQBiQ"
      },
      "source": [
        "## Predictions"
      ]
    },
    {
      "cell_type": "code",
      "metadata": {
        "colab": {
          "base_uri": "https://localhost:8080/"
        },
        "id": "asAqCL0gLDzG",
        "outputId": "162f3d0b-b679-4e10-d691-f36895c32594"
      },
      "source": [
        "num=4\n",
        "sentence = [testing_sentences[num]]\n",
        "sequences = tokenizer.texts_to_sequences(sentence)\n",
        "padded = pad_sequences(sequences, maxlen=max_length, padding=padding_type, truncating=trunc_type)\n",
        "print('Prediction:',model.predict(padded)[0][0])\n",
        "print('Valor real:',testing_labels[num])"
      ],
      "execution_count": null,
      "outputs": [
        {
          "output_type": "stream",
          "text": [
            "Prediction: 0.9999722\n",
            "Valor real: 1\n"
          ],
          "name": "stdout"
        }
      ]
    }
  ]
}