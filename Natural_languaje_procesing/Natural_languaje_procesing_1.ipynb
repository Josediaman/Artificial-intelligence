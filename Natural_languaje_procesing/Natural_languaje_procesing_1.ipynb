{
  "nbformat": 4,
  "nbformat_minor": 0,
  "metadata": {
    "colab": {
      "name": "Natural_languaje_procesing_1.ipynb",
      "provenance": [],
      "collapsed_sections": [
        "DxWKXtGSxeTl",
        "m57Sojd7xsQv",
        "06F0DsDcyWzR",
        "tZdkDsrz1IPx",
        "NNrsdQty5Nhx",
        "idL_KF_O6TII"
      ],
      "toc_visible": true
    },
    "kernelspec": {
      "name": "python3",
      "display_name": "Python 3"
    }
  },
  "cells": [
    {
      "cell_type": "markdown",
      "metadata": {
        "id": "24zM6ZRUxZka"
      },
      "source": [
        "# Natural languaje processing"
      ]
    },
    {
      "cell_type": "markdown",
      "metadata": {
        "id": "DxWKXtGSxeTl"
      },
      "source": [
        "## Packages"
      ]
    },
    {
      "cell_type": "code",
      "metadata": {
        "id": "XZTC58BPxTo2"
      },
      "source": [
        "import json\n",
        "import tensorflow as tf\n",
        "\n",
        "from tensorflow.keras.preprocessing.text import Tokenizer\n",
        "from tensorflow.keras.preprocessing.sequence import pad_sequences"
      ],
      "execution_count": null,
      "outputs": []
    },
    {
      "cell_type": "markdown",
      "metadata": {
        "id": "m57Sojd7xsQv"
      },
      "source": [
        "## Text"
      ]
    },
    {
      "cell_type": "code",
      "metadata": {
        "id": "wcku14KkxmGe",
        "colab": {
          "base_uri": "https://localhost:8080/"
        },
        "outputId": "ade9d3ce-e832-4f51-e98a-2d9f8cc26cc7"
      },
      "source": [
        "!wget --no-check-certificate \\\n",
        "    https://storage.googleapis.com/laurencemoroney-blog.appspot.com/sarcasm.json \\\n",
        "    -O /tmp/sarcasm.json"
      ],
      "execution_count": null,
      "outputs": [
        {
          "output_type": "stream",
          "text": [
            "--2021-02-24 11:49:22--  https://storage.googleapis.com/laurencemoroney-blog.appspot.com/sarcasm.json\n",
            "Resolving storage.googleapis.com (storage.googleapis.com)... 74.125.195.128, 173.194.202.128, 74.125.20.128, ...\n",
            "Connecting to storage.googleapis.com (storage.googleapis.com)|74.125.195.128|:443... connected.\n",
            "HTTP request sent, awaiting response... 200 OK\n",
            "Length: 5643545 (5.4M) [application/json]\n",
            "Saving to: ‘/tmp/sarcasm.json’\n",
            "\n",
            "\r/tmp/sarcasm.json     0%[                    ]       0  --.-KB/s               \r/tmp/sarcasm.json   100%[===================>]   5.38M  --.-KB/s    in 0.03s   \n",
            "\n",
            "2021-02-24 11:49:22 (164 MB/s) - ‘/tmp/sarcasm.json’ saved [5643545/5643545]\n",
            "\n"
          ],
          "name": "stdout"
        }
      ]
    },
    {
      "cell_type": "code",
      "metadata": {
        "id": "FePYpD0T34s_"
      },
      "source": [
        "with open(\"/tmp/sarcasm.json\", 'r') as f:\n",
        "    datastore = json.load(f)\n",
        "\n",
        "sentences = []\n",
        "labels = []\n",
        "\n",
        "for item in datastore:\n",
        "    sentences.append(item['headline'])\n",
        "    labels.append(item['is_sarcastic'])"
      ],
      "execution_count": null,
      "outputs": []
    },
    {
      "cell_type": "markdown",
      "metadata": {
        "id": "06F0DsDcyWzR"
      },
      "source": [
        "## Index of words and y sentences as numbers"
      ]
    },
    {
      "cell_type": "code",
      "metadata": {
        "id": "xpGXJb4x3-Ch"
      },
      "source": [
        "vocab_size = 10000\n",
        "embedding_dim = 16\n",
        "max_length = 100\n",
        "trunc_type='post'\n",
        "padding_type='post'\n",
        "oov_tok = \"<OOV>\"\n",
        "training_size = 20000"
      ],
      "execution_count": null,
      "outputs": []
    },
    {
      "cell_type": "code",
      "metadata": {
        "id": "X82A3A9S4G9p"
      },
      "source": [
        "training_sentences = sentences[0:training_size]\n",
        "testing_sentences = sentences[training_size:]\n",
        "training_labels = labels[0:training_size]\n",
        "testing_labels = labels[training_size:]"
      ],
      "execution_count": null,
      "outputs": []
    },
    {
      "cell_type": "code",
      "metadata": {
        "id": "5Nqi9zZa4NQa"
      },
      "source": [
        "tokenizer = Tokenizer(num_words=vocab_size, oov_token=oov_tok)\n",
        "tokenizer.fit_on_texts(training_sentences)\n",
        "word_index = tokenizer.word_index\n",
        "\n",
        "training_sequences = tokenizer.texts_to_sequences(training_sentences)\n",
        "training_padded = pad_sequences(training_sequences, maxlen=max_length, padding=padding_type, truncating=trunc_type)\n",
        "\n",
        "testing_sequences = tokenizer.texts_to_sequences(testing_sentences)\n",
        "testing_padded = pad_sequences(testing_sequences, maxlen=max_length, padding=padding_type, truncating=trunc_type)"
      ],
      "execution_count": null,
      "outputs": []
    },
    {
      "cell_type": "code",
      "metadata": {
        "id": "omYAX2Gp4h06"
      },
      "source": [
        "# Need this block to get it to work with TensorFlow 2.x\n",
        "import numpy as np\n",
        "training_padded = np.array(training_padded)\n",
        "training_labels = np.array(training_labels)\n",
        "testing_padded = np.array(testing_padded)\n",
        "testing_labels = np.array(testing_labels)"
      ],
      "execution_count": null,
      "outputs": []
    },
    {
      "cell_type": "markdown",
      "metadata": {
        "id": "tZdkDsrz1IPx"
      },
      "source": [
        "## Model"
      ]
    },
    {
      "cell_type": "code",
      "metadata": {
        "colab": {
          "base_uri": "https://localhost:8080/"
        },
        "id": "4ZgYsp_W4ujx",
        "outputId": "638b9ae8-606e-4555-ab13-a5d98c8ce5ac"
      },
      "source": [
        "model = tf.keras.Sequential([\n",
        "    tf.keras.layers.Embedding(vocab_size, embedding_dim, input_length=max_length),\n",
        "    tf.keras.layers.Bidirectional(tf.keras.layers.LSTM(32)),\n",
        "    tf.keras.layers.Dense(24, activation='relu'),\n",
        "    tf.keras.layers.Dense(1, activation='sigmoid')\n",
        "])\n",
        "model.compile(loss='binary_crossentropy',optimizer='adam',metrics=['accuracy'])\n",
        "\n",
        "model.summary()"
      ],
      "execution_count": null,
      "outputs": [
        {
          "output_type": "stream",
          "text": [
            "Model: \"sequential_4\"\n",
            "_________________________________________________________________\n",
            "Layer (type)                 Output Shape              Param #   \n",
            "=================================================================\n",
            "embedding_4 (Embedding)      (None, 100, 16)           160000    \n",
            "_________________________________________________________________\n",
            "bidirectional_1 (Bidirection (None, 64)                12544     \n",
            "_________________________________________________________________\n",
            "dense_7 (Dense)              (None, 24)                1560      \n",
            "_________________________________________________________________\n",
            "dense_8 (Dense)              (None, 1)                 25        \n",
            "=================================================================\n",
            "Total params: 174,129\n",
            "Trainable params: 174,129\n",
            "Non-trainable params: 0\n",
            "_________________________________________________________________\n"
          ],
          "name": "stdout"
        }
      ]
    },
    {
      "cell_type": "markdown",
      "metadata": {
        "id": "NNrsdQty5Nhx"
      },
      "source": [
        "## Train the model"
      ]
    },
    {
      "cell_type": "code",
      "metadata": {
        "colab": {
          "base_uri": "https://localhost:8080/"
        },
        "id": "RFOSq_124zA3",
        "outputId": "0672cae0-31ac-457c-f2bd-59769df3e9ba"
      },
      "source": [
        "num_epochs = 10\n",
        "history = model.fit(training_padded, training_labels, epochs=num_epochs, validation_data=(testing_padded, testing_labels), verbose=2)"
      ],
      "execution_count": null,
      "outputs": [
        {
          "output_type": "stream",
          "text": [
            "Epoch 1/10\n",
            "625/625 - 27s - loss: 0.4138 - accuracy: 0.7918 - val_loss: 0.3452 - val_accuracy: 0.8505\n",
            "Epoch 2/10\n",
            "625/625 - 23s - loss: 0.2215 - accuracy: 0.9101 - val_loss: 0.3609 - val_accuracy: 0.8542\n",
            "Epoch 3/10\n",
            "625/625 - 23s - loss: 0.1395 - accuracy: 0.9478 - val_loss: 0.4079 - val_accuracy: 0.8520\n",
            "Epoch 4/10\n",
            "625/625 - 24s - loss: 0.0863 - accuracy: 0.9709 - val_loss: 0.4929 - val_accuracy: 0.8427\n",
            "Epoch 5/10\n",
            "625/625 - 23s - loss: 0.0549 - accuracy: 0.9818 - val_loss: 0.6043 - val_accuracy: 0.8413\n",
            "Epoch 6/10\n",
            "625/625 - 24s - loss: 0.0344 - accuracy: 0.9890 - val_loss: 0.6917 - val_accuracy: 0.8395\n",
            "Epoch 7/10\n",
            "625/625 - 23s - loss: 0.0245 - accuracy: 0.9921 - val_loss: 0.7472 - val_accuracy: 0.8377\n",
            "Epoch 8/10\n",
            "625/625 - 23s - loss: 0.0183 - accuracy: 0.9937 - val_loss: 0.7627 - val_accuracy: 0.8360\n",
            "Epoch 9/10\n",
            "625/625 - 23s - loss: 0.0122 - accuracy: 0.9959 - val_loss: 0.9304 - val_accuracy: 0.8313\n",
            "Epoch 10/10\n",
            "625/625 - 23s - loss: 0.0093 - accuracy: 0.9970 - val_loss: 0.9983 - val_accuracy: 0.8360\n"
          ],
          "name": "stdout"
        }
      ]
    },
    {
      "cell_type": "code",
      "metadata": {
        "colab": {
          "base_uri": "https://localhost:8080/",
          "height": 541
        },
        "id": "_tfJC8rP5LQj",
        "outputId": "ee3247b4-d51a-47ce-a17a-6c8f5ddf90e0"
      },
      "source": [
        "import matplotlib.pyplot as plt\n",
        "\n",
        "\n",
        "def plot_graphs(history, string):\n",
        "  plt.plot(history.history[string])\n",
        "  plt.plot(history.history['val_'+string])\n",
        "  plt.xlabel(\"Epochs\")\n",
        "  plt.ylabel(string)\n",
        "  plt.legend([string, 'val_'+string])\n",
        "  plt.show()\n",
        "  \n",
        "plot_graphs(history, \"accuracy\")\n",
        "plot_graphs(history, \"loss\")"
      ],
      "execution_count": null,
      "outputs": [
        {
          "output_type": "display_data",
          "data": {
            "image/png": "[encoded data removed]",
            "text/plain": [
              "<Figure size 432x288 with 1 Axes>"
            ]
          },
          "metadata": {
            "tags": [],
            "needs_background": "light"
          }
        },
        {
          "output_type": "display_data",
          "data": {
            "image/png": "[encoded data removed]",
            "text/plain": [
              "<Figure size 432x288 with 1 Axes>"
            ]
          },
          "metadata": {
            "tags": [],
            "needs_background": "light"
          }
        }
      ]
    },
    {
      "cell_type": "markdown",
      "metadata": {
        "id": "idL_KF_O6TII"
      },
      "source": [
        "## Predictions"
      ]
    },
    {
      "cell_type": "code",
      "metadata": {
        "colab": {
          "base_uri": "https://localhost:8080/"
        },
        "id": "JAM0OWmJ6Hi6",
        "outputId": "3e3061fb-8809-41e6-f6dd-fae0662d43ef"
      },
      "source": [
        "num=7\n",
        "sentence = [testing_sentences[num]]\n",
        "sequences = tokenizer.texts_to_sequences(sentence)\n",
        "padded = pad_sequences(sequences, maxlen=max_length, padding=padding_type, truncating=trunc_type)\n",
        "print('Prediction:',model.predict(padded)[0][0])\n",
        "print('Valor real:',testing_labels[num])"
      ],
      "execution_count": null,
      "outputs": [
        {
          "output_type": "stream",
          "text": [
            "Prediction: 0.9999713\n",
            "Valor real: 1\n"
          ],
          "name": "stdout"
        }
      ]
    }
  ]
}